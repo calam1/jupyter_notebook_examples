{
 "cells": [
  {
   "cell_type": "code",
   "execution_count": 1,
   "metadata": {
    "collapsed": true
   },
   "outputs": [],
   "source": [
    "%matplotlib inline\n",
    "import pandas as pd"
   ]
  },
  {
   "cell_type": "code",
   "execution_count": 2,
   "metadata": {
    "collapsed": false
   },
   "outputs": [
    {
     "data": {
      "text/html": [
       "<div>\n",
       "<table border=\"1\" class=\"dataframe\">\n",
       "  <thead>\n",
       "    <tr style=\"text-align: right;\">\n",
       "      <th></th>\n",
       "      <th>title</th>\n",
       "      <th>year</th>\n",
       "    </tr>\n",
       "  </thead>\n",
       "  <tbody>\n",
       "    <tr>\n",
       "      <th>0</th>\n",
       "      <td>The Rising Son</td>\n",
       "      <td>1990</td>\n",
       "    </tr>\n",
       "    <tr>\n",
       "      <th>1</th>\n",
       "      <td>Ashes of Kukulcan</td>\n",
       "      <td>2016</td>\n",
       "    </tr>\n",
       "    <tr>\n",
       "      <th>2</th>\n",
       "      <td>The Thousand Plane Raid</td>\n",
       "      <td>1969</td>\n",
       "    </tr>\n",
       "    <tr>\n",
       "      <th>3</th>\n",
       "      <td>Crucea de piatra</td>\n",
       "      <td>1993</td>\n",
       "    </tr>\n",
       "    <tr>\n",
       "      <th>4</th>\n",
       "      <td>Country</td>\n",
       "      <td>2000</td>\n",
       "    </tr>\n",
       "  </tbody>\n",
       "</table>\n",
       "</div>"
      ],
      "text/plain": [
       "                     title  year\n",
       "0           The Rising Son  1990\n",
       "1        Ashes of Kukulcan  2016\n",
       "2  The Thousand Plane Raid  1969\n",
       "3         Crucea de piatra  1993\n",
       "4                  Country  2000"
      ]
     },
     "execution_count": 2,
     "metadata": {},
     "output_type": "execute_result"
    }
   ],
   "source": [
    "titles = pd.DataFrame.from_csv('/Users/christopherlam/git/development/pycon-pandas-tutorial/data/titles.csv', \n",
    "                               index_col=None)\n",
    "titles.head()"
   ]
  },
  {
   "cell_type": "code",
   "execution_count": 3,
   "metadata": {
    "collapsed": false
   },
   "outputs": [
    {
     "data": {
      "text/plain": [
       "216537"
      ]
     },
     "execution_count": 3,
     "metadata": {},
     "output_type": "execute_result"
    }
   ],
   "source": [
    "len(titles)"
   ]
  },
  {
   "cell_type": "code",
   "execution_count": 4,
   "metadata": {
    "collapsed": false
   },
   "outputs": [
    {
     "data": {
      "text/plain": [
       "0             The Rising Son\n",
       "1          Ashes of Kukulcan\n",
       "2    The Thousand Plane Raid\n",
       "3           Crucea de piatra\n",
       "4                    Country\n",
       "Name: title, dtype: object"
      ]
     },
     "execution_count": 4,
     "metadata": {},
     "output_type": "execute_result"
    }
   ],
   "source": [
    "h = titles.head()\n",
    "h['title']"
   ]
  },
  {
   "cell_type": "code",
   "execution_count": 5,
   "metadata": {
    "collapsed": false
   },
   "outputs": [
    {
     "data": {
      "text/plain": [
       "0    1990\n",
       "1    2016\n",
       "2    1969\n",
       "3    1993\n",
       "4    2000\n",
       "Name: year, dtype: int64"
      ]
     },
     "execution_count": 5,
     "metadata": {},
     "output_type": "execute_result"
    }
   ],
   "source": [
    "h['year']"
   ]
  },
  {
   "cell_type": "code",
   "execution_count": 6,
   "metadata": {
    "collapsed": false
   },
   "outputs": [
    {
     "data": {
      "text/plain": [
       "0    11990\n",
       "1    12016\n",
       "2    11969\n",
       "3    11993\n",
       "4    12000\n",
       "Name: year, dtype: int64"
      ]
     },
     "execution_count": 6,
     "metadata": {},
     "output_type": "execute_result"
    }
   ],
   "source": [
    "h['year'] + 10000\n",
    "#titles.title.head() + 10000 # will blow up"
   ]
  },
  {
   "cell_type": "code",
   "execution_count": 7,
   "metadata": {
    "collapsed": false
   },
   "outputs": [
    {
     "data": {
      "text/plain": [
       "0    199\n",
       "1    201\n",
       "2    196\n",
       "3    199\n",
       "4    200\n",
       "Name: year, dtype: int64"
      ]
     },
     "execution_count": 7,
     "metadata": {},
     "output_type": "execute_result"
    }
   ],
   "source": [
    "h['year'] //10 #python divide truncate or is this a panda operator"
   ]
  },
  {
   "cell_type": "code",
   "execution_count": 8,
   "metadata": {
    "collapsed": false
   },
   "outputs": [
    {
     "data": {
      "text/plain": [
       "0    1990\n",
       "1    2016\n",
       "2    1969\n",
       "3    1993\n",
       "4    2000\n",
       "Name: year, dtype: int64"
      ]
     },
     "execution_count": 8,
     "metadata": {},
     "output_type": "execute_result"
    }
   ],
   "source": [
    "h.year"
   ]
  },
  {
   "cell_type": "code",
   "execution_count": 9,
   "metadata": {
    "collapsed": false
   },
   "outputs": [
    {
     "data": {
      "text/plain": [
       "0    199\n",
       "1    201\n",
       "2    196\n",
       "3    199\n",
       "4    200\n",
       "Name: year, dtype: int64"
      ]
     },
     "execution_count": 9,
     "metadata": {},
     "output_type": "execute_result"
    }
   ],
   "source": [
    "h.year // 10"
   ]
  },
  {
   "cell_type": "code",
   "execution_count": 10,
   "metadata": {
    "collapsed": false
   },
   "outputs": [
    {
     "data": {
      "text/plain": [
       "0     True\n",
       "1     True\n",
       "2    False\n",
       "3     True\n",
       "4     True\n",
       "Name: year, dtype: bool"
      ]
     },
     "execution_count": 10,
     "metadata": {},
     "output_type": "execute_result"
    }
   ],
   "source": [
    "h.year > 1985"
   ]
  },
  {
   "cell_type": "code",
   "execution_count": 11,
   "metadata": {
    "collapsed": false
   },
   "outputs": [
    {
     "data": {
      "text/html": [
       "<div>\n",
       "<table border=\"1\" class=\"dataframe\">\n",
       "  <thead>\n",
       "    <tr style=\"text-align: right;\">\n",
       "      <th></th>\n",
       "      <th>title</th>\n",
       "      <th>year</th>\n",
       "    </tr>\n",
       "  </thead>\n",
       "  <tbody>\n",
       "    <tr>\n",
       "      <th>0</th>\n",
       "      <td>The Rising Son</td>\n",
       "      <td>1990</td>\n",
       "    </tr>\n",
       "    <tr>\n",
       "      <th>1</th>\n",
       "      <td>Ashes of Kukulcan</td>\n",
       "      <td>2016</td>\n",
       "    </tr>\n",
       "    <tr>\n",
       "      <th>3</th>\n",
       "      <td>Crucea de piatra</td>\n",
       "      <td>1993</td>\n",
       "    </tr>\n",
       "    <tr>\n",
       "      <th>4</th>\n",
       "      <td>Country</td>\n",
       "      <td>2000</td>\n",
       "    </tr>\n",
       "  </tbody>\n",
       "</table>\n",
       "</div>"
      ],
      "text/plain": [
       "               title  year\n",
       "0     The Rising Son  1990\n",
       "1  Ashes of Kukulcan  2016\n",
       "3   Crucea de piatra  1993\n",
       "4            Country  2000"
      ]
     },
     "execution_count": 11,
     "metadata": {},
     "output_type": "execute_result"
    }
   ],
   "source": [
    "h[h['year'] > 1985]"
   ]
  },
  {
   "cell_type": "code",
   "execution_count": 12,
   "metadata": {
    "collapsed": false,
    "scrolled": true
   },
   "outputs": [
    {
     "data": {
      "text/html": [
       "<div>\n",
       "<table border=\"1\" class=\"dataframe\">\n",
       "  <thead>\n",
       "    <tr style=\"text-align: right;\">\n",
       "      <th></th>\n",
       "      <th>title</th>\n",
       "      <th>year</th>\n",
       "    </tr>\n",
       "  </thead>\n",
       "  <tbody>\n",
       "    <tr>\n",
       "      <th>2</th>\n",
       "      <td>The Thousand Plane Raid</td>\n",
       "      <td>1969</td>\n",
       "    </tr>\n",
       "  </tbody>\n",
       "</table>\n",
       "</div>"
      ],
      "text/plain": [
       "                     title  year\n",
       "2  The Thousand Plane Raid  1969"
      ]
     },
     "execution_count": 12,
     "metadata": {},
     "output_type": "execute_result"
    }
   ],
   "source": [
    "h[h.year < 1985]"
   ]
  },
  {
   "cell_type": "code",
   "execution_count": 13,
   "metadata": {
    "collapsed": false
   },
   "outputs": [
    {
     "data": {
      "text/html": [
       "<div>\n",
       "<table border=\"1\" class=\"dataframe\">\n",
       "  <thead>\n",
       "    <tr style=\"text-align: right;\">\n",
       "      <th></th>\n",
       "      <th>title</th>\n",
       "      <th>year</th>\n",
       "    </tr>\n",
       "  </thead>\n",
       "  <tbody>\n",
       "    <tr>\n",
       "      <th>1</th>\n",
       "      <td>Ashes of Kukulcan</td>\n",
       "      <td>2016</td>\n",
       "    </tr>\n",
       "    <tr>\n",
       "      <th>2</th>\n",
       "      <td>The Thousand Plane Raid</td>\n",
       "      <td>1969</td>\n",
       "    </tr>\n",
       "    <tr>\n",
       "      <th>4</th>\n",
       "      <td>Country</td>\n",
       "      <td>2000</td>\n",
       "    </tr>\n",
       "  </tbody>\n",
       "</table>\n",
       "</div>"
      ],
      "text/plain": [
       "                     title  year\n",
       "1        Ashes of Kukulcan  2016\n",
       "2  The Thousand Plane Raid  1969\n",
       "4                  Country  2000"
      ]
     },
     "execution_count": 13,
     "metadata": {},
     "output_type": "execute_result"
    }
   ],
   "source": [
    "h[(h.year < 1990) | (h.year >= 2000)] # exclude 90's movies"
   ]
  },
  {
   "cell_type": "code",
   "execution_count": 14,
   "metadata": {
    "collapsed": false
   },
   "outputs": [
    {
     "data": {
      "text/html": [
       "<div>\n",
       "<table border=\"1\" class=\"dataframe\">\n",
       "  <thead>\n",
       "    <tr style=\"text-align: right;\">\n",
       "      <th></th>\n",
       "      <th>title</th>\n",
       "      <th>year</th>\n",
       "    </tr>\n",
       "  </thead>\n",
       "  <tbody>\n",
       "    <tr>\n",
       "      <th>3879</th>\n",
       "      <td>Macbeth</td>\n",
       "      <td>1913</td>\n",
       "    </tr>\n",
       "    <tr>\n",
       "      <th>63280</th>\n",
       "      <td>Macbeth</td>\n",
       "      <td>1916</td>\n",
       "    </tr>\n",
       "    <tr>\n",
       "      <th>148162</th>\n",
       "      <td>Macbeth</td>\n",
       "      <td>1948</td>\n",
       "    </tr>\n",
       "    <tr>\n",
       "      <th>190642</th>\n",
       "      <td>Macbeth</td>\n",
       "      <td>1987</td>\n",
       "    </tr>\n",
       "    <tr>\n",
       "      <th>15847</th>\n",
       "      <td>Macbeth</td>\n",
       "      <td>1997</td>\n",
       "    </tr>\n",
       "    <tr>\n",
       "      <th>23836</th>\n",
       "      <td>Macbeth</td>\n",
       "      <td>1998</td>\n",
       "    </tr>\n",
       "    <tr>\n",
       "      <th>69377</th>\n",
       "      <td>Macbeth</td>\n",
       "      <td>2003</td>\n",
       "    </tr>\n",
       "    <tr>\n",
       "      <th>123882</th>\n",
       "      <td>Macbeth</td>\n",
       "      <td>2004</td>\n",
       "    </tr>\n",
       "    <tr>\n",
       "      <th>52103</th>\n",
       "      <td>Macbeth</td>\n",
       "      <td>2006</td>\n",
       "    </tr>\n",
       "    <tr>\n",
       "      <th>141197</th>\n",
       "      <td>Macbeth</td>\n",
       "      <td>2009</td>\n",
       "    </tr>\n",
       "    <tr>\n",
       "      <th>10808</th>\n",
       "      <td>Macbeth</td>\n",
       "      <td>2013</td>\n",
       "    </tr>\n",
       "    <tr>\n",
       "      <th>144904</th>\n",
       "      <td>Macbeth</td>\n",
       "      <td>2014</td>\n",
       "    </tr>\n",
       "    <tr>\n",
       "      <th>56619</th>\n",
       "      <td>Macbeth</td>\n",
       "      <td>2015</td>\n",
       "    </tr>\n",
       "    <tr>\n",
       "      <th>137776</th>\n",
       "      <td>Macbeth</td>\n",
       "      <td>2016</td>\n",
       "    </tr>\n",
       "    <tr>\n",
       "      <th>157792</th>\n",
       "      <td>Macbeth</td>\n",
       "      <td>2017</td>\n",
       "    </tr>\n",
       "  </tbody>\n",
       "</table>\n",
       "</div>"
      ],
      "text/plain": [
       "          title  year\n",
       "3879    Macbeth  1913\n",
       "63280   Macbeth  1916\n",
       "148162  Macbeth  1948\n",
       "190642  Macbeth  1987\n",
       "15847   Macbeth  1997\n",
       "23836   Macbeth  1998\n",
       "69377   Macbeth  2003\n",
       "123882  Macbeth  2004\n",
       "52103   Macbeth  2006\n",
       "141197  Macbeth  2009\n",
       "10808   Macbeth  2013\n",
       "144904  Macbeth  2014\n",
       "56619   Macbeth  2015\n",
       "137776  Macbeth  2016\n",
       "157792  Macbeth  2017"
      ]
     },
     "execution_count": 14,
     "metadata": {},
     "output_type": "execute_result"
    }
   ],
   "source": [
    "t = titles\n",
    "t[t.title == 'Macbeth'].sort_values('year')"
   ]
  },
  {
   "cell_type": "code",
   "execution_count": 15,
   "metadata": {
    "collapsed": false
   },
   "outputs": [
    {
     "data": {
      "text/html": [
       "<div>\n",
       "<table border=\"1\" class=\"dataframe\">\n",
       "  <thead>\n",
       "    <tr style=\"text-align: right;\">\n",
       "      <th></th>\n",
       "      <th>title</th>\n",
       "      <th>year</th>\n",
       "    </tr>\n",
       "  </thead>\n",
       "  <tbody>\n",
       "    <tr>\n",
       "      <th>3879</th>\n",
       "      <td>Macbeth</td>\n",
       "      <td>1913</td>\n",
       "    </tr>\n",
       "    <tr>\n",
       "      <th>63280</th>\n",
       "      <td>Macbeth</td>\n",
       "      <td>1916</td>\n",
       "    </tr>\n",
       "    <tr>\n",
       "      <th>148162</th>\n",
       "      <td>Macbeth</td>\n",
       "      <td>1948</td>\n",
       "    </tr>\n",
       "    <tr>\n",
       "      <th>190642</th>\n",
       "      <td>Macbeth</td>\n",
       "      <td>1987</td>\n",
       "    </tr>\n",
       "    <tr>\n",
       "      <th>15847</th>\n",
       "      <td>Macbeth</td>\n",
       "      <td>1997</td>\n",
       "    </tr>\n",
       "  </tbody>\n",
       "</table>\n",
       "</div>"
      ],
      "text/plain": [
       "          title  year\n",
       "3879    Macbeth  1913\n",
       "63280   Macbeth  1916\n",
       "148162  Macbeth  1948\n",
       "190642  Macbeth  1987\n",
       "15847   Macbeth  1997"
      ]
     },
     "execution_count": 15,
     "metadata": {},
     "output_type": "execute_result"
    }
   ],
   "source": [
    "t = titles\n",
    "t[t.title == 'Macbeth'].sort_values('year').head()"
   ]
  },
  {
   "cell_type": "code",
   "execution_count": 16,
   "metadata": {
    "collapsed": false
   },
   "outputs": [
    {
     "data": {
      "text/html": [
       "<div>\n",
       "<table border=\"1\" class=\"dataframe\">\n",
       "  <thead>\n",
       "    <tr style=\"text-align: right;\">\n",
       "      <th></th>\n",
       "      <th>title</th>\n",
       "      <th>year</th>\n",
       "    </tr>\n",
       "  </thead>\n",
       "  <tbody>\n",
       "    <tr>\n",
       "      <th>10808</th>\n",
       "      <td>Macbeth</td>\n",
       "      <td>2013</td>\n",
       "    </tr>\n",
       "    <tr>\n",
       "      <th>144904</th>\n",
       "      <td>Macbeth</td>\n",
       "      <td>2014</td>\n",
       "    </tr>\n",
       "    <tr>\n",
       "      <th>56619</th>\n",
       "      <td>Macbeth</td>\n",
       "      <td>2015</td>\n",
       "    </tr>\n",
       "    <tr>\n",
       "      <th>137776</th>\n",
       "      <td>Macbeth</td>\n",
       "      <td>2016</td>\n",
       "    </tr>\n",
       "    <tr>\n",
       "      <th>157792</th>\n",
       "      <td>Macbeth</td>\n",
       "      <td>2017</td>\n",
       "    </tr>\n",
       "  </tbody>\n",
       "</table>\n",
       "</div>"
      ],
      "text/plain": [
       "          title  year\n",
       "10808   Macbeth  2013\n",
       "144904  Macbeth  2014\n",
       "56619   Macbeth  2015\n",
       "137776  Macbeth  2016\n",
       "157792  Macbeth  2017"
      ]
     },
     "execution_count": 16,
     "metadata": {},
     "output_type": "execute_result"
    }
   ],
   "source": [
    "t = titles\n",
    "t[t.title == 'Macbeth'].sort_values('year').tail()"
   ]
  },
  {
   "cell_type": "code",
   "execution_count": 17,
   "metadata": {
    "collapsed": false
   },
   "outputs": [
    {
     "data": {
      "text/plain": [
       "165551    1894\n",
       "116176    1899\n",
       "19203     1900\n",
       "88609     1900\n",
       "12641     1900\n",
       "170918    1900\n",
       "194796    1903\n",
       "63622     1905\n",
       "30432     1905\n",
       "154793    1906\n",
       "Name: year, dtype: int64"
      ]
     },
     "execution_count": 17,
     "metadata": {},
     "output_type": "execute_result"
    }
   ],
   "source": [
    "#t.year.order() deprecated\n",
    "t.year.sort_values().head(10)"
   ]
  },
  {
   "cell_type": "code",
   "execution_count": 18,
   "metadata": {
    "collapsed": false
   },
   "outputs": [
    {
     "data": {
      "text/html": [
       "<div>\n",
       "<table border=\"1\" class=\"dataframe\">\n",
       "  <thead>\n",
       "    <tr style=\"text-align: right;\">\n",
       "      <th></th>\n",
       "      <th>title</th>\n",
       "      <th>year</th>\n",
       "      <th>name</th>\n",
       "      <th>type</th>\n",
       "      <th>character</th>\n",
       "      <th>n</th>\n",
       "    </tr>\n",
       "  </thead>\n",
       "  <tbody>\n",
       "    <tr>\n",
       "      <th>0</th>\n",
       "      <td>Suuri illusioni</td>\n",
       "      <td>1985</td>\n",
       "      <td>Homo $</td>\n",
       "      <td>actor</td>\n",
       "      <td>Guests</td>\n",
       "      <td>22</td>\n",
       "    </tr>\n",
       "    <tr>\n",
       "      <th>1</th>\n",
       "      <td>Gangsta Rap: The Glockumentary</td>\n",
       "      <td>2007</td>\n",
       "      <td>Too $hort</td>\n",
       "      <td>actor</td>\n",
       "      <td>Himself</td>\n",
       "      <td>NaN</td>\n",
       "    </tr>\n",
       "    <tr>\n",
       "      <th>2</th>\n",
       "      <td>Menace II Society</td>\n",
       "      <td>1993</td>\n",
       "      <td>Too $hort</td>\n",
       "      <td>actor</td>\n",
       "      <td>Lew-Loc</td>\n",
       "      <td>27</td>\n",
       "    </tr>\n",
       "    <tr>\n",
       "      <th>3</th>\n",
       "      <td>Porndogs: The Adventures of Sadie</td>\n",
       "      <td>2009</td>\n",
       "      <td>Too $hort</td>\n",
       "      <td>actor</td>\n",
       "      <td>Bosco</td>\n",
       "      <td>3</td>\n",
       "    </tr>\n",
       "    <tr>\n",
       "      <th>4</th>\n",
       "      <td>Stop Pepper Palmer</td>\n",
       "      <td>2014</td>\n",
       "      <td>Too $hort</td>\n",
       "      <td>actor</td>\n",
       "      <td>Himself</td>\n",
       "      <td>NaN</td>\n",
       "    </tr>\n",
       "  </tbody>\n",
       "</table>\n",
       "</div>"
      ],
      "text/plain": [
       "                               title  year       name   type character   n\n",
       "0                    Suuri illusioni  1985     Homo $  actor    Guests  22\n",
       "1     Gangsta Rap: The Glockumentary  2007  Too $hort  actor   Himself NaN\n",
       "2                  Menace II Society  1993  Too $hort  actor   Lew-Loc  27\n",
       "3  Porndogs: The Adventures of Sadie  2009  Too $hort  actor     Bosco   3\n",
       "4                 Stop Pepper Palmer  2014  Too $hort  actor   Himself NaN"
      ]
     },
     "execution_count": 18,
     "metadata": {},
     "output_type": "execute_result"
    }
   ],
   "source": [
    "cast = pd.DataFrame.from_csv('/Users/christopherlam/git/development/pycon-pandas-tutorial/data/cast.csv', \n",
    "                               index_col=None)\n",
    "cast.head()"
   ]
  },
  {
   "cell_type": "code",
   "execution_count": 19,
   "metadata": {
    "collapsed": false
   },
   "outputs": [
    {
     "data": {
      "text/html": [
       "<div>\n",
       "<table border=\"1\" class=\"dataframe\">\n",
       "  <thead>\n",
       "    <tr style=\"text-align: right;\">\n",
       "      <th></th>\n",
       "      <th>title</th>\n",
       "      <th>year</th>\n",
       "      <th>name</th>\n",
       "      <th>type</th>\n",
       "      <th>character</th>\n",
       "      <th>n</th>\n",
       "    </tr>\n",
       "  </thead>\n",
       "  <tbody>\n",
       "    <tr>\n",
       "      <th>0</th>\n",
       "      <td>Suuri illusioni</td>\n",
       "      <td>1985</td>\n",
       "      <td>Homo $</td>\n",
       "      <td>actor</td>\n",
       "      <td>Guests</td>\n",
       "      <td>22</td>\n",
       "    </tr>\n",
       "    <tr>\n",
       "      <th>2</th>\n",
       "      <td>Menace II Society</td>\n",
       "      <td>1993</td>\n",
       "      <td>Too $hort</td>\n",
       "      <td>actor</td>\n",
       "      <td>Lew-Loc</td>\n",
       "      <td>27</td>\n",
       "    </tr>\n",
       "    <tr>\n",
       "      <th>3</th>\n",
       "      <td>Porndogs: The Adventures of Sadie</td>\n",
       "      <td>2009</td>\n",
       "      <td>Too $hort</td>\n",
       "      <td>actor</td>\n",
       "      <td>Bosco</td>\n",
       "      <td>3</td>\n",
       "    </tr>\n",
       "  </tbody>\n",
       "</table>\n",
       "</div>"
      ],
      "text/plain": [
       "                               title  year       name   type character   n\n",
       "0                    Suuri illusioni  1985     Homo $  actor    Guests  22\n",
       "2                  Menace II Society  1993  Too $hort  actor   Lew-Loc  27\n",
       "3  Porndogs: The Adventures of Sadie  2009  Too $hort  actor     Bosco   3"
      ]
     },
     "execution_count": 19,
     "metadata": {},
     "output_type": "execute_result"
    }
   ],
   "source": [
    "c = cast.head()\n",
    "c[c.n.notnull()]"
   ]
  },
  {
   "cell_type": "code",
   "execution_count": 20,
   "metadata": {
    "collapsed": false
   },
   "outputs": [
    {
     "data": {
      "text/html": [
       "<div>\n",
       "<table border=\"1\" class=\"dataframe\">\n",
       "  <thead>\n",
       "    <tr style=\"text-align: right;\">\n",
       "      <th></th>\n",
       "      <th>title</th>\n",
       "      <th>year</th>\n",
       "      <th>name</th>\n",
       "      <th>type</th>\n",
       "      <th>character</th>\n",
       "      <th>n</th>\n",
       "    </tr>\n",
       "  </thead>\n",
       "  <tbody>\n",
       "    <tr>\n",
       "      <th>1</th>\n",
       "      <td>Gangsta Rap: The Glockumentary</td>\n",
       "      <td>2007</td>\n",
       "      <td>Too $hort</td>\n",
       "      <td>actor</td>\n",
       "      <td>Himself</td>\n",
       "      <td>NaN</td>\n",
       "    </tr>\n",
       "    <tr>\n",
       "      <th>4</th>\n",
       "      <td>Stop Pepper Palmer</td>\n",
       "      <td>2014</td>\n",
       "      <td>Too $hort</td>\n",
       "      <td>actor</td>\n",
       "      <td>Himself</td>\n",
       "      <td>NaN</td>\n",
       "    </tr>\n",
       "  </tbody>\n",
       "</table>\n",
       "</div>"
      ],
      "text/plain": [
       "                            title  year       name   type character   n\n",
       "1  Gangsta Rap: The Glockumentary  2007  Too $hort  actor   Himself NaN\n",
       "4              Stop Pepper Palmer  2014  Too $hort  actor   Himself NaN"
      ]
     },
     "execution_count": 20,
     "metadata": {},
     "output_type": "execute_result"
    }
   ],
   "source": [
    "c[c.n.isnull()]"
   ]
  },
  {
   "cell_type": "code",
   "execution_count": 21,
   "metadata": {
    "collapsed": false
   },
   "outputs": [
    {
     "data": {
      "text/plain": [
       "True"
      ]
     },
     "execution_count": 21,
     "metadata": {},
     "output_type": "execute_result"
    }
   ],
   "source": [
    "'Hamlet (II)'.startswith('Hamlet')"
   ]
  },
  {
   "cell_type": "code",
   "execution_count": 22,
   "metadata": {
    "collapsed": false
   },
   "outputs": [
    {
     "data": {
      "text/html": [
       "<div>\n",
       "<table border=\"1\" class=\"dataframe\">\n",
       "  <thead>\n",
       "    <tr style=\"text-align: right;\">\n",
       "      <th></th>\n",
       "      <th>title</th>\n",
       "      <th>year</th>\n",
       "    </tr>\n",
       "  </thead>\n",
       "  <tbody>\n",
       "    <tr>\n",
       "      <th>5557</th>\n",
       "      <td>Hamlet</td>\n",
       "      <td>1948</td>\n",
       "    </tr>\n",
       "    <tr>\n",
       "      <th>26198</th>\n",
       "      <td>Hamlet</td>\n",
       "      <td>2016</td>\n",
       "    </tr>\n",
       "    <tr>\n",
       "      <th>37485</th>\n",
       "      <td>Hamlet</td>\n",
       "      <td>2015</td>\n",
       "    </tr>\n",
       "    <tr>\n",
       "      <th>42343</th>\n",
       "      <td>Hamlet</td>\n",
       "      <td>1990</td>\n",
       "    </tr>\n",
       "    <tr>\n",
       "      <th>43617</th>\n",
       "      <td>Hamlet</td>\n",
       "      <td>1910</td>\n",
       "    </tr>\n",
       "    <tr>\n",
       "      <th>68413</th>\n",
       "      <td>Hamlet</td>\n",
       "      <td>1954</td>\n",
       "    </tr>\n",
       "    <tr>\n",
       "      <th>85976</th>\n",
       "      <td>Hamlet</td>\n",
       "      <td>1976</td>\n",
       "    </tr>\n",
       "    <tr>\n",
       "      <th>88019</th>\n",
       "      <td>Hamlet</td>\n",
       "      <td>1987</td>\n",
       "    </tr>\n",
       "    <tr>\n",
       "      <th>88213</th>\n",
       "      <td>Hamlet</td>\n",
       "      <td>2000</td>\n",
       "    </tr>\n",
       "    <tr>\n",
       "      <th>91970</th>\n",
       "      <td>Hamlet</td>\n",
       "      <td>1921</td>\n",
       "    </tr>\n",
       "    <tr>\n",
       "      <th>114492</th>\n",
       "      <td>Hamlet</td>\n",
       "      <td>1969</td>\n",
       "    </tr>\n",
       "    <tr>\n",
       "      <th>154963</th>\n",
       "      <td>Hamlet</td>\n",
       "      <td>1913</td>\n",
       "    </tr>\n",
       "    <tr>\n",
       "      <th>163996</th>\n",
       "      <td>Hamlet</td>\n",
       "      <td>2009</td>\n",
       "    </tr>\n",
       "    <tr>\n",
       "      <th>170404</th>\n",
       "      <td>Hamlet</td>\n",
       "      <td>1964</td>\n",
       "    </tr>\n",
       "    <tr>\n",
       "      <th>187482</th>\n",
       "      <td>Hamlet</td>\n",
       "      <td>1996</td>\n",
       "    </tr>\n",
       "    <tr>\n",
       "      <th>193329</th>\n",
       "      <td>Hamlet</td>\n",
       "      <td>2011</td>\n",
       "    </tr>\n",
       "    <tr>\n",
       "      <th>195543</th>\n",
       "      <td>Hamlet</td>\n",
       "      <td>1911</td>\n",
       "    </tr>\n",
       "    <tr>\n",
       "      <th>206374</th>\n",
       "      <td>Hamlet</td>\n",
       "      <td>1973</td>\n",
       "    </tr>\n",
       "    <tr>\n",
       "      <th>208348</th>\n",
       "      <td>Hamlet</td>\n",
       "      <td>2014</td>\n",
       "    </tr>\n",
       "  </tbody>\n",
       "</table>\n",
       "</div>"
      ],
      "text/plain": [
       "         title  year\n",
       "5557    Hamlet  1948\n",
       "26198   Hamlet  2016\n",
       "37485   Hamlet  2015\n",
       "42343   Hamlet  1990\n",
       "43617   Hamlet  1910\n",
       "68413   Hamlet  1954\n",
       "85976   Hamlet  1976\n",
       "88019   Hamlet  1987\n",
       "88213   Hamlet  2000\n",
       "91970   Hamlet  1921\n",
       "114492  Hamlet  1969\n",
       "154963  Hamlet  1913\n",
       "163996  Hamlet  2009\n",
       "170404  Hamlet  1964\n",
       "187482  Hamlet  1996\n",
       "193329  Hamlet  2011\n",
       "195543  Hamlet  1911\n",
       "206374  Hamlet  1973\n",
       "208348  Hamlet  2014"
      ]
     },
     "execution_count": 22,
     "metadata": {},
     "output_type": "execute_result"
    }
   ],
   "source": [
    "h = titles #titles , year, name, etc of a movie\n",
    "h[h.title == 'Hamlet']"
   ]
  },
  {
   "cell_type": "code",
   "execution_count": 23,
   "metadata": {
    "collapsed": false
   },
   "outputs": [
    {
     "data": {
      "text/plain": [
       "41"
      ]
     },
     "execution_count": 23,
     "metadata": {},
     "output_type": "execute_result"
    }
   ],
   "source": [
    "#h.title.str.startswith('Hamlet') #returns boolean\n",
    "hamlets = h[h.title.str.startswith('Hamlet')]\n",
    "#hamlets\n",
    "len(hamlets)"
   ]
  },
  {
   "cell_type": "code",
   "execution_count": 24,
   "metadata": {
    "collapsed": false
   },
   "outputs": [
    {
     "data": {
      "text/plain": [
       "0    14\n",
       "1    17\n",
       "2    23\n",
       "3    16\n",
       "4     7\n",
       "Name: title, dtype: int64"
      ]
     },
     "execution_count": 24,
     "metadata": {},
     "output_type": "execute_result"
    }
   ],
   "source": [
    "h.title.str.len().head() # returns length of title "
   ]
  },
  {
   "cell_type": "code",
   "execution_count": 25,
   "metadata": {
    "collapsed": false
   },
   "outputs": [
    {
     "data": {
      "text/plain": [
       "2016    9234\n",
       "2015    8462\n",
       "2014    8033\n",
       "2013    7563\n",
       "2012    7214\n",
       "2011    6806\n",
       "2010    6191\n",
       "2009    5963\n",
       "2008    4957\n",
       "2007    4274\n",
       "2006    4149\n",
       "2005    3899\n",
       "2004    3400\n",
       "2003    3068\n",
       "2002    2916\n",
       "Name: year, dtype: int64"
      ]
     },
     "execution_count": 25,
     "metadata": {},
     "output_type": "execute_result"
    }
   ],
   "source": [
    "titles.year.value_counts().sort_values(ascending=False).head(15)"
   ]
  },
  {
   "cell_type": "code",
   "execution_count": 26,
   "metadata": {
    "collapsed": false
   },
   "outputs": [
    {
     "data": {
      "text/plain": [
       "<matplotlib.axes._subplots.AxesSubplot at 0x1254345d0>"
      ]
     },
     "execution_count": 26,
     "metadata": {},
     "output_type": "execute_result"
    },
    {
     "data": {
      "image/png": "[encoded data removed]",
      "text/plain": [
       "<matplotlib.figure.Figure at 0x12542ce90>"
      ]
     },
     "metadata": {},
     "output_type": "display_data"
    }
   ],
   "source": [
    "titles.year.value_counts().sort_values(ascending=False).head(20).plot() # bad graph years are reversed, etc"
   ]
  },
  {
   "cell_type": "code",
   "execution_count": 27,
   "metadata": {
    "collapsed": false
   },
   "outputs": [
    {
     "data": {
      "text/plain": [
       "<matplotlib.axes._subplots.AxesSubplot at 0x106e83110>"
      ]
     },
     "execution_count": 27,
     "metadata": {},
     "output_type": "execute_result"
    },
    {
     "data": {
      "image/png": "[encoded data removed]",
      "text/plain": [
       "<matplotlib.figure.Figure at 0x1072dacd0>"
      ]
     },
     "metadata": {},
     "output_type": "display_data"
    }
   ],
   "source": [
    "titles.year.value_counts().sort_index().plot()"
   ]
  },
  {
   "cell_type": "code",
   "execution_count": 28,
   "metadata": {
    "collapsed": false
   },
   "outputs": [
    {
     "data": {
      "text/plain": [
       "<matplotlib.axes._subplots.AxesSubplot at 0x107399750>"
      ]
     },
     "execution_count": 28,
     "metadata": {},
     "output_type": "execute_result"
    },
    {
     "data": {
      "image/png": "[encoded data removed]",
      "text/plain": [
       "<matplotlib.figure.Figure at 0x1072eaf90>"
      ]
     },
     "metadata": {},
     "output_type": "display_data"
    }
   ],
   "source": [
    "c = cast\n",
    "c = c[c.character == 'Kermit the Frog']\n",
    "c.plot(x='year', y='n', kind='scatter')"
   ]
  },
  {
   "cell_type": "code",
   "execution_count": 29,
   "metadata": {
    "collapsed": false
   },
   "outputs": [
    {
     "data": {
      "text/html": [
       "<div>\n",
       "<table border=\"1\" class=\"dataframe\">\n",
       "  <thead>\n",
       "    <tr style=\"text-align: right;\">\n",
       "      <th></th>\n",
       "      <th>year</th>\n",
       "      <th>n</th>\n",
       "    </tr>\n",
       "  </thead>\n",
       "  <tbody>\n",
       "    <tr>\n",
       "      <th>0</th>\n",
       "      <td>1985</td>\n",
       "      <td>22</td>\n",
       "    </tr>\n",
       "    <tr>\n",
       "      <th>1</th>\n",
       "      <td>2007</td>\n",
       "      <td>NaN</td>\n",
       "    </tr>\n",
       "    <tr>\n",
       "      <th>2</th>\n",
       "      <td>1993</td>\n",
       "      <td>27</td>\n",
       "    </tr>\n",
       "    <tr>\n",
       "      <th>3</th>\n",
       "      <td>2009</td>\n",
       "      <td>3</td>\n",
       "    </tr>\n",
       "    <tr>\n",
       "      <th>4</th>\n",
       "      <td>2014</td>\n",
       "      <td>NaN</td>\n",
       "    </tr>\n",
       "  </tbody>\n",
       "</table>\n",
       "</div>"
      ],
      "text/plain": [
       "   year   n\n",
       "0  1985  22\n",
       "1  2007 NaN\n",
       "2  1993  27\n",
       "3  2009   3\n",
       "4  2014 NaN"
      ]
     },
     "execution_count": 29,
     "metadata": {},
     "output_type": "execute_result"
    }
   ],
   "source": [
    "c = cast\n",
    "c[['year', 'n']].head()"
   ]
  },
  {
   "cell_type": "code",
   "execution_count": 30,
   "metadata": {
    "collapsed": false
   },
   "outputs": [
    {
     "data": {
      "text/plain": [
       "3383167"
      ]
     },
     "execution_count": 30,
     "metadata": {},
     "output_type": "execute_result"
    }
   ],
   "source": [
    "len(cast)"
   ]
  },
  {
   "cell_type": "code",
   "execution_count": 31,
   "metadata": {
    "collapsed": false
   },
   "outputs": [
    {
     "data": {
      "text/html": [
       "<div>\n",
       "<table border=\"1\" class=\"dataframe\">\n",
       "  <thead>\n",
       "    <tr style=\"text-align: right;\">\n",
       "      <th></th>\n",
       "      <th>title</th>\n",
       "      <th>year</th>\n",
       "      <th>name</th>\n",
       "      <th>type</th>\n",
       "      <th>character</th>\n",
       "      <th>n</th>\n",
       "    </tr>\n",
       "  </thead>\n",
       "  <tbody>\n",
       "    <tr>\n",
       "      <th>233918</th>\n",
       "      <td>Sleuth</td>\n",
       "      <td>2007</td>\n",
       "      <td>Kenneth Branagh</td>\n",
       "      <td>actor</td>\n",
       "      <td>Other Man on T.V.</td>\n",
       "      <td>NaN</td>\n",
       "    </tr>\n",
       "    <tr>\n",
       "      <th>294810</th>\n",
       "      <td>Sleuth</td>\n",
       "      <td>1972</td>\n",
       "      <td>Michael Caine</td>\n",
       "      <td>actor</td>\n",
       "      <td>Milo Tindle</td>\n",
       "      <td>2</td>\n",
       "    </tr>\n",
       "    <tr>\n",
       "      <th>294811</th>\n",
       "      <td>Sleuth</td>\n",
       "      <td>2007</td>\n",
       "      <td>Michael Caine</td>\n",
       "      <td>actor</td>\n",
       "      <td>Andrew</td>\n",
       "      <td>1</td>\n",
       "    </tr>\n",
       "    <tr>\n",
       "      <th>337756</th>\n",
       "      <td>Sleuth</td>\n",
       "      <td>1972</td>\n",
       "      <td>Alec Cawthorne</td>\n",
       "      <td>actor</td>\n",
       "      <td>Inspector Doppler</td>\n",
       "      <td>3</td>\n",
       "    </tr>\n",
       "    <tr>\n",
       "      <th>337757</th>\n",
       "      <td>Sleuth</td>\n",
       "      <td>2007</td>\n",
       "      <td>Alec (II) Cawthorne</td>\n",
       "      <td>actor</td>\n",
       "      <td>Inspector Doppler</td>\n",
       "      <td>NaN</td>\n",
       "    </tr>\n",
       "    <tr>\n",
       "      <th>1171232</th>\n",
       "      <td>Sleuth</td>\n",
       "      <td>2007</td>\n",
       "      <td>Jude Law</td>\n",
       "      <td>actor</td>\n",
       "      <td>Milo</td>\n",
       "      <td>2</td>\n",
       "    </tr>\n",
       "    <tr>\n",
       "      <th>1312188</th>\n",
       "      <td>Sleuth</td>\n",
       "      <td>1972</td>\n",
       "      <td>Teddy Martin</td>\n",
       "      <td>actor</td>\n",
       "      <td>Police Constable Higgs</td>\n",
       "      <td>6</td>\n",
       "    </tr>\n",
       "    <tr>\n",
       "      <th>1327177</th>\n",
       "      <td>Sleuth</td>\n",
       "      <td>1972</td>\n",
       "      <td>John (II) Matthews</td>\n",
       "      <td>actor</td>\n",
       "      <td>Detective Sergeant Tarrant</td>\n",
       "      <td>4</td>\n",
       "    </tr>\n",
       "    <tr>\n",
       "      <th>1545047</th>\n",
       "      <td>Sleuth</td>\n",
       "      <td>1972</td>\n",
       "      <td>Laurence Olivier</td>\n",
       "      <td>actor</td>\n",
       "      <td>Andrew Wyke</td>\n",
       "      <td>1</td>\n",
       "    </tr>\n",
       "    <tr>\n",
       "      <th>1635645</th>\n",
       "      <td>Sleuth</td>\n",
       "      <td>2007</td>\n",
       "      <td>Harold Pinter</td>\n",
       "      <td>actor</td>\n",
       "      <td>Man on T.V.</td>\n",
       "      <td>3</td>\n",
       "    </tr>\n",
       "    <tr>\n",
       "      <th>2458448</th>\n",
       "      <td>Sleuth</td>\n",
       "      <td>2007</td>\n",
       "      <td>Eve (II) Channing</td>\n",
       "      <td>actress</td>\n",
       "      <td>Marguerite Wyke</td>\n",
       "      <td>NaN</td>\n",
       "    </tr>\n",
       "    <tr>\n",
       "      <th>2458449</th>\n",
       "      <td>Sleuth</td>\n",
       "      <td>1972</td>\n",
       "      <td>Eve (III) Channing</td>\n",
       "      <td>actress</td>\n",
       "      <td>Marguerite Wyke</td>\n",
       "      <td>5</td>\n",
       "    </tr>\n",
       "    <tr>\n",
       "      <th>3022053</th>\n",
       "      <td>Sleuth</td>\n",
       "      <td>2007</td>\n",
       "      <td>Carmel O'Sullivan</td>\n",
       "      <td>actress</td>\n",
       "      <td>Maggie</td>\n",
       "      <td>NaN</td>\n",
       "    </tr>\n",
       "  </tbody>\n",
       "</table>\n",
       "</div>"
      ],
      "text/plain": [
       "          title  year                 name     type  \\\n",
       "233918   Sleuth  2007      Kenneth Branagh    actor   \n",
       "294810   Sleuth  1972        Michael Caine    actor   \n",
       "294811   Sleuth  2007        Michael Caine    actor   \n",
       "337756   Sleuth  1972       Alec Cawthorne    actor   \n",
       "337757   Sleuth  2007  Alec (II) Cawthorne    actor   \n",
       "1171232  Sleuth  2007             Jude Law    actor   \n",
       "1312188  Sleuth  1972         Teddy Martin    actor   \n",
       "1327177  Sleuth  1972   John (II) Matthews    actor   \n",
       "1545047  Sleuth  1972     Laurence Olivier    actor   \n",
       "1635645  Sleuth  2007        Harold Pinter    actor   \n",
       "2458448  Sleuth  2007    Eve (II) Channing  actress   \n",
       "2458449  Sleuth  1972   Eve (III) Channing  actress   \n",
       "3022053  Sleuth  2007    Carmel O'Sullivan  actress   \n",
       "\n",
       "                          character   n  \n",
       "233918            Other Man on T.V. NaN  \n",
       "294810                  Milo Tindle   2  \n",
       "294811                       Andrew   1  \n",
       "337756            Inspector Doppler   3  \n",
       "337757            Inspector Doppler NaN  \n",
       "1171232                        Milo   2  \n",
       "1312188      Police Constable Higgs   6  \n",
       "1327177  Detective Sergeant Tarrant   4  \n",
       "1545047                 Andrew Wyke   1  \n",
       "1635645                 Man on T.V.   3  \n",
       "2458448             Marguerite Wyke NaN  \n",
       "2458449             Marguerite Wyke   5  \n",
       "3022053                      Maggie NaN  "
      ]
     },
     "execution_count": 31,
     "metadata": {},
     "output_type": "execute_result"
    }
   ],
   "source": [
    "cast[cast.title == \"Sleuth\"]"
   ]
  },
  {
   "cell_type": "code",
   "execution_count": 32,
   "metadata": {
    "collapsed": false
   },
   "outputs": [
    {
     "name": "stdout",
     "output_type": "stream",
     "text": [
      "CPU times: user 259 ms, sys: 6.68 ms, total: 266 ms\n",
      "Wall time: 279 ms\n"
     ]
    },
    {
     "data": {
      "text/html": [
       "<div>\n",
       "<table border=\"1\" class=\"dataframe\">\n",
       "  <thead>\n",
       "    <tr style=\"text-align: right;\">\n",
       "      <th></th>\n",
       "      <th>title</th>\n",
       "      <th>year</th>\n",
       "      <th>name</th>\n",
       "      <th>type</th>\n",
       "      <th>character</th>\n",
       "      <th>n</th>\n",
       "    </tr>\n",
       "  </thead>\n",
       "  <tbody>\n",
       "    <tr>\n",
       "      <th>233918</th>\n",
       "      <td>Sleuth</td>\n",
       "      <td>2007</td>\n",
       "      <td>Kenneth Branagh</td>\n",
       "      <td>actor</td>\n",
       "      <td>Other Man on T.V.</td>\n",
       "      <td>NaN</td>\n",
       "    </tr>\n",
       "    <tr>\n",
       "      <th>294810</th>\n",
       "      <td>Sleuth</td>\n",
       "      <td>1972</td>\n",
       "      <td>Michael Caine</td>\n",
       "      <td>actor</td>\n",
       "      <td>Milo Tindle</td>\n",
       "      <td>2</td>\n",
       "    </tr>\n",
       "    <tr>\n",
       "      <th>294811</th>\n",
       "      <td>Sleuth</td>\n",
       "      <td>2007</td>\n",
       "      <td>Michael Caine</td>\n",
       "      <td>actor</td>\n",
       "      <td>Andrew</td>\n",
       "      <td>1</td>\n",
       "    </tr>\n",
       "    <tr>\n",
       "      <th>337756</th>\n",
       "      <td>Sleuth</td>\n",
       "      <td>1972</td>\n",
       "      <td>Alec Cawthorne</td>\n",
       "      <td>actor</td>\n",
       "      <td>Inspector Doppler</td>\n",
       "      <td>3</td>\n",
       "    </tr>\n",
       "    <tr>\n",
       "      <th>337757</th>\n",
       "      <td>Sleuth</td>\n",
       "      <td>2007</td>\n",
       "      <td>Alec (II) Cawthorne</td>\n",
       "      <td>actor</td>\n",
       "      <td>Inspector Doppler</td>\n",
       "      <td>NaN</td>\n",
       "    </tr>\n",
       "    <tr>\n",
       "      <th>1171232</th>\n",
       "      <td>Sleuth</td>\n",
       "      <td>2007</td>\n",
       "      <td>Jude Law</td>\n",
       "      <td>actor</td>\n",
       "      <td>Milo</td>\n",
       "      <td>2</td>\n",
       "    </tr>\n",
       "    <tr>\n",
       "      <th>1312188</th>\n",
       "      <td>Sleuth</td>\n",
       "      <td>1972</td>\n",
       "      <td>Teddy Martin</td>\n",
       "      <td>actor</td>\n",
       "      <td>Police Constable Higgs</td>\n",
       "      <td>6</td>\n",
       "    </tr>\n",
       "    <tr>\n",
       "      <th>1327177</th>\n",
       "      <td>Sleuth</td>\n",
       "      <td>1972</td>\n",
       "      <td>John (II) Matthews</td>\n",
       "      <td>actor</td>\n",
       "      <td>Detective Sergeant Tarrant</td>\n",
       "      <td>4</td>\n",
       "    </tr>\n",
       "    <tr>\n",
       "      <th>1545047</th>\n",
       "      <td>Sleuth</td>\n",
       "      <td>1972</td>\n",
       "      <td>Laurence Olivier</td>\n",
       "      <td>actor</td>\n",
       "      <td>Andrew Wyke</td>\n",
       "      <td>1</td>\n",
       "    </tr>\n",
       "    <tr>\n",
       "      <th>1635645</th>\n",
       "      <td>Sleuth</td>\n",
       "      <td>2007</td>\n",
       "      <td>Harold Pinter</td>\n",
       "      <td>actor</td>\n",
       "      <td>Man on T.V.</td>\n",
       "      <td>3</td>\n",
       "    </tr>\n",
       "    <tr>\n",
       "      <th>2458448</th>\n",
       "      <td>Sleuth</td>\n",
       "      <td>2007</td>\n",
       "      <td>Eve (II) Channing</td>\n",
       "      <td>actress</td>\n",
       "      <td>Marguerite Wyke</td>\n",
       "      <td>NaN</td>\n",
       "    </tr>\n",
       "    <tr>\n",
       "      <th>2458449</th>\n",
       "      <td>Sleuth</td>\n",
       "      <td>1972</td>\n",
       "      <td>Eve (III) Channing</td>\n",
       "      <td>actress</td>\n",
       "      <td>Marguerite Wyke</td>\n",
       "      <td>5</td>\n",
       "    </tr>\n",
       "    <tr>\n",
       "      <th>3022053</th>\n",
       "      <td>Sleuth</td>\n",
       "      <td>2007</td>\n",
       "      <td>Carmel O'Sullivan</td>\n",
       "      <td>actress</td>\n",
       "      <td>Maggie</td>\n",
       "      <td>NaN</td>\n",
       "    </tr>\n",
       "  </tbody>\n",
       "</table>\n",
       "</div>"
      ],
      "text/plain": [
       "          title  year                 name     type  \\\n",
       "233918   Sleuth  2007      Kenneth Branagh    actor   \n",
       "294810   Sleuth  1972        Michael Caine    actor   \n",
       "294811   Sleuth  2007        Michael Caine    actor   \n",
       "337756   Sleuth  1972       Alec Cawthorne    actor   \n",
       "337757   Sleuth  2007  Alec (II) Cawthorne    actor   \n",
       "1171232  Sleuth  2007             Jude Law    actor   \n",
       "1312188  Sleuth  1972         Teddy Martin    actor   \n",
       "1327177  Sleuth  1972   John (II) Matthews    actor   \n",
       "1545047  Sleuth  1972     Laurence Olivier    actor   \n",
       "1635645  Sleuth  2007        Harold Pinter    actor   \n",
       "2458448  Sleuth  2007    Eve (II) Channing  actress   \n",
       "2458449  Sleuth  1972   Eve (III) Channing  actress   \n",
       "3022053  Sleuth  2007    Carmel O'Sullivan  actress   \n",
       "\n",
       "                          character   n  \n",
       "233918            Other Man on T.V. NaN  \n",
       "294810                  Milo Tindle   2  \n",
       "294811                       Andrew   1  \n",
       "337756            Inspector Doppler   3  \n",
       "337757            Inspector Doppler NaN  \n",
       "1171232                        Milo   2  \n",
       "1312188      Police Constable Higgs   6  \n",
       "1327177  Detective Sergeant Tarrant   4  \n",
       "1545047                 Andrew Wyke   1  \n",
       "1635645                 Man on T.V.   3  \n",
       "2458448             Marguerite Wyke NaN  \n",
       "2458449             Marguerite Wyke   5  \n",
       "3022053                      Maggie NaN  "
      ]
     },
     "execution_count": 32,
     "metadata": {},
     "output_type": "execute_result"
    }
   ],
   "source": [
    "%%time\n",
    "cast[cast.title == \"Sleuth\"]"
   ]
  },
  {
   "cell_type": "code",
   "execution_count": 33,
   "metadata": {
    "collapsed": false
   },
   "outputs": [
    {
     "data": {
      "text/html": [
       "<div>\n",
       "<table border=\"1\" class=\"dataframe\">\n",
       "  <thead>\n",
       "    <tr style=\"text-align: right;\">\n",
       "      <th></th>\n",
       "      <th>year</th>\n",
       "      <th>name</th>\n",
       "      <th>type</th>\n",
       "      <th>character</th>\n",
       "      <th>n</th>\n",
       "    </tr>\n",
       "    <tr>\n",
       "      <th>title</th>\n",
       "      <th></th>\n",
       "      <th></th>\n",
       "      <th></th>\n",
       "      <th></th>\n",
       "      <th></th>\n",
       "    </tr>\n",
       "  </thead>\n",
       "  <tbody>\n",
       "    <tr>\n",
       "      <th>#1 Serial Killer</th>\n",
       "      <td>2013</td>\n",
       "      <td>Timothy Tau</td>\n",
       "      <td>actor</td>\n",
       "      <td>Police Officer</td>\n",
       "      <td>NaN</td>\n",
       "    </tr>\n",
       "    <tr>\n",
       "      <th>#1 Serial Killer</th>\n",
       "      <td>2013</td>\n",
       "      <td>Thomas Isao Morinaka</td>\n",
       "      <td>actor</td>\n",
       "      <td>Policeman #1</td>\n",
       "      <td>19</td>\n",
       "    </tr>\n",
       "    <tr>\n",
       "      <th>#1 Serial Killer</th>\n",
       "      <td>2013</td>\n",
       "      <td>Tiley Chao</td>\n",
       "      <td>actress</td>\n",
       "      <td>Mrs. Chang</td>\n",
       "      <td>12</td>\n",
       "    </tr>\n",
       "    <tr>\n",
       "      <th>#1 Serial Killer</th>\n",
       "      <td>2013</td>\n",
       "      <td>Patrick Chien</td>\n",
       "      <td>actor</td>\n",
       "      <td>Cleaver Victim</td>\n",
       "      <td>22</td>\n",
       "    </tr>\n",
       "    <tr>\n",
       "      <th>#1 Serial Killer</th>\n",
       "      <td>2013</td>\n",
       "      <td>Rane Jameson</td>\n",
       "      <td>actor</td>\n",
       "      <td>Micah Betancourt</td>\n",
       "      <td>6</td>\n",
       "    </tr>\n",
       "  </tbody>\n",
       "</table>\n",
       "</div>"
      ],
      "text/plain": [
       "                  year                  name     type         character   n\n",
       "title                                                                      \n",
       "#1 Serial Killer  2013           Timothy Tau    actor    Police Officer NaN\n",
       "#1 Serial Killer  2013  Thomas Isao Morinaka    actor      Policeman #1  19\n",
       "#1 Serial Killer  2013            Tiley Chao  actress        Mrs. Chang  12\n",
       "#1 Serial Killer  2013         Patrick Chien    actor    Cleaver Victim  22\n",
       "#1 Serial Killer  2013          Rane Jameson    actor  Micah Betancourt   6"
      ]
     },
     "execution_count": 33,
     "metadata": {},
     "output_type": "execute_result"
    }
   ],
   "source": [
    "c = cast.set_index(\"title\").sort_index()\n",
    "c.head()"
   ]
  },
  {
   "cell_type": "code",
   "execution_count": 34,
   "metadata": {
    "collapsed": false
   },
   "outputs": [
    {
     "name": "stdout",
     "output_type": "stream",
     "text": [
      "CPU times: user 1.23 s, sys: 43.5 ms, total: 1.27 s\n",
      "Wall time: 1.31 s\n"
     ]
    },
    {
     "data": {
      "text/html": [
       "<div>\n",
       "<table border=\"1\" class=\"dataframe\">\n",
       "  <thead>\n",
       "    <tr style=\"text-align: right;\">\n",
       "      <th></th>\n",
       "      <th>year</th>\n",
       "      <th>name</th>\n",
       "      <th>type</th>\n",
       "      <th>character</th>\n",
       "      <th>n</th>\n",
       "    </tr>\n",
       "    <tr>\n",
       "      <th>title</th>\n",
       "      <th></th>\n",
       "      <th></th>\n",
       "      <th></th>\n",
       "      <th></th>\n",
       "      <th></th>\n",
       "    </tr>\n",
       "  </thead>\n",
       "  <tbody>\n",
       "    <tr>\n",
       "      <th>The Wizard of Oz</th>\n",
       "      <td>1925</td>\n",
       "      <td>Spencer Bell</td>\n",
       "      <td>actor</td>\n",
       "      <td>Snowball (as G. Howe Black)</td>\n",
       "      <td>NaN</td>\n",
       "    </tr>\n",
       "    <tr>\n",
       "      <th>The Wizard of Oz</th>\n",
       "      <td>1925</td>\n",
       "      <td>Spencer Bell</td>\n",
       "      <td>actor</td>\n",
       "      <td>Cowardly Lion</td>\n",
       "      <td>NaN</td>\n",
       "    </tr>\n",
       "    <tr>\n",
       "      <th>The Wizard of Oz</th>\n",
       "      <td>1925</td>\n",
       "      <td>Chester Conklin</td>\n",
       "      <td>actor</td>\n",
       "      <td>Undetermined Role</td>\n",
       "      <td>NaN</td>\n",
       "    </tr>\n",
       "    <tr>\n",
       "      <th>The Wizard of Oz</th>\n",
       "      <td>1925</td>\n",
       "      <td>Mary Carr</td>\n",
       "      <td>actress</td>\n",
       "      <td>Aunt Em</td>\n",
       "      <td>2</td>\n",
       "    </tr>\n",
       "    <tr>\n",
       "      <th>The Wizard of Oz</th>\n",
       "      <td>1925</td>\n",
       "      <td>William Dinus</td>\n",
       "      <td>actor</td>\n",
       "      <td>Undetermined Role</td>\n",
       "      <td>9</td>\n",
       "    </tr>\n",
       "    <tr>\n",
       "      <th>The Wizard of Oz</th>\n",
       "      <td>1925</td>\n",
       "      <td>Frank Alexander</td>\n",
       "      <td>actor</td>\n",
       "      <td>Prince of Whales</td>\n",
       "      <td>10</td>\n",
       "    </tr>\n",
       "    <tr>\n",
       "      <th>The Wizard of Oz</th>\n",
       "      <td>1925</td>\n",
       "      <td>Charles Murray</td>\n",
       "      <td>actor</td>\n",
       "      <td>Wizard of Oz</td>\n",
       "      <td>6</td>\n",
       "    </tr>\n",
       "    <tr>\n",
       "      <th>The Wizard of Oz</th>\n",
       "      <td>1925</td>\n",
       "      <td>Otto Lederer</td>\n",
       "      <td>actor</td>\n",
       "      <td>Ambassador Wikked</td>\n",
       "      <td>11</td>\n",
       "    </tr>\n",
       "    <tr>\n",
       "      <th>The Wizard of Oz</th>\n",
       "      <td>1925</td>\n",
       "      <td>Rosalind Byrne</td>\n",
       "      <td>actress</td>\n",
       "      <td>Herald Trumpeter</td>\n",
       "      <td>NaN</td>\n",
       "    </tr>\n",
       "    <tr>\n",
       "      <th>The Wizard of Oz</th>\n",
       "      <td>1925</td>\n",
       "      <td>Bryant Washburn</td>\n",
       "      <td>actor</td>\n",
       "      <td>Prince Kynd</td>\n",
       "      <td>4</td>\n",
       "    </tr>\n",
       "    <tr>\n",
       "      <th>The Wizard of Oz</th>\n",
       "      <td>1925</td>\n",
       "      <td>Larry Semon</td>\n",
       "      <td>actor</td>\n",
       "      <td>Scarecrow</td>\n",
       "      <td>13</td>\n",
       "    </tr>\n",
       "    <tr>\n",
       "      <th>The Wizard of Oz</th>\n",
       "      <td>1925</td>\n",
       "      <td>Larry Semon</td>\n",
       "      <td>actor</td>\n",
       "      <td>Toymaker</td>\n",
       "      <td>13</td>\n",
       "    </tr>\n",
       "    <tr>\n",
       "      <th>The Wizard of Oz</th>\n",
       "      <td>1925</td>\n",
       "      <td>William Hauber</td>\n",
       "      <td>actor</td>\n",
       "      <td>Undetermined Role</td>\n",
       "      <td>8</td>\n",
       "    </tr>\n",
       "    <tr>\n",
       "      <th>The Wizard of Oz</th>\n",
       "      <td>1925</td>\n",
       "      <td>Wanda Hawley</td>\n",
       "      <td>actress</td>\n",
       "      <td>Undetermined Role</td>\n",
       "      <td>NaN</td>\n",
       "    </tr>\n",
       "    <tr>\n",
       "      <th>The Wizard of Oz</th>\n",
       "      <td>1925</td>\n",
       "      <td>Larry Semon</td>\n",
       "      <td>actor</td>\n",
       "      <td>Farmhand</td>\n",
       "      <td>13</td>\n",
       "    </tr>\n",
       "    <tr>\n",
       "      <th>The Wizard of Oz</th>\n",
       "      <td>1925</td>\n",
       "      <td>Oliver Hardy</td>\n",
       "      <td>actor</td>\n",
       "      <td>Farmhand</td>\n",
       "      <td>7</td>\n",
       "    </tr>\n",
       "    <tr>\n",
       "      <th>The Wizard of Oz</th>\n",
       "      <td>1925</td>\n",
       "      <td>Oliver Hardy</td>\n",
       "      <td>actor</td>\n",
       "      <td>Knight of the Garter</td>\n",
       "      <td>7</td>\n",
       "    </tr>\n",
       "    <tr>\n",
       "      <th>The Wizard of Oz</th>\n",
       "      <td>1925</td>\n",
       "      <td>Oliver Hardy</td>\n",
       "      <td>actor</td>\n",
       "      <td>Woodsman</td>\n",
       "      <td>7</td>\n",
       "    </tr>\n",
       "    <tr>\n",
       "      <th>The Wizard of Oz</th>\n",
       "      <td>1925</td>\n",
       "      <td>Frank Alexander</td>\n",
       "      <td>actor</td>\n",
       "      <td>Uncle Henry</td>\n",
       "      <td>10</td>\n",
       "    </tr>\n",
       "    <tr>\n",
       "      <th>The Wizard of Oz</th>\n",
       "      <td>1925</td>\n",
       "      <td>Josef Swickard</td>\n",
       "      <td>actor</td>\n",
       "      <td>Prime Minister Kruel</td>\n",
       "      <td>5</td>\n",
       "    </tr>\n",
       "    <tr>\n",
       "      <th>The Wizard of Oz</th>\n",
       "      <td>1925</td>\n",
       "      <td>Virginia Pearson</td>\n",
       "      <td>actress</td>\n",
       "      <td>Lady Vishuss</td>\n",
       "      <td>3</td>\n",
       "    </tr>\n",
       "    <tr>\n",
       "      <th>The Wizard of Oz</th>\n",
       "      <td>1925</td>\n",
       "      <td>Dorothy Dwan</td>\n",
       "      <td>actress</td>\n",
       "      <td>Dorothy</td>\n",
       "      <td>1</td>\n",
       "    </tr>\n",
       "    <tr>\n",
       "      <th>The Wizard of Oz</th>\n",
       "      <td>1925</td>\n",
       "      <td>Frederick Ko Vert</td>\n",
       "      <td>actor</td>\n",
       "      <td>Phantom of the Basket</td>\n",
       "      <td>12</td>\n",
       "    </tr>\n",
       "    <tr>\n",
       "      <th>The Wizard of Oz</th>\n",
       "      <td>1925</td>\n",
       "      <td>Dorothy Dwan</td>\n",
       "      <td>actress</td>\n",
       "      <td>Princess Dorothea</td>\n",
       "      <td>1</td>\n",
       "    </tr>\n",
       "    <tr>\n",
       "      <th>The Wizard of Oz</th>\n",
       "      <td>1925</td>\n",
       "      <td>Spencer Bell</td>\n",
       "      <td>actor</td>\n",
       "      <td>Rastus</td>\n",
       "      <td>NaN</td>\n",
       "    </tr>\n",
       "    <tr>\n",
       "      <th>The Wizard of Oz</th>\n",
       "      <td>1939</td>\n",
       "      <td>Harry Wilson</td>\n",
       "      <td>actor</td>\n",
       "      <td>Winkie</td>\n",
       "      <td>NaN</td>\n",
       "    </tr>\n",
       "    <tr>\n",
       "      <th>The Wizard of Oz</th>\n",
       "      <td>1939</td>\n",
       "      <td>Billie Burke</td>\n",
       "      <td>actress</td>\n",
       "      <td>Glinda</td>\n",
       "      <td>6</td>\n",
       "    </tr>\n",
       "    <tr>\n",
       "      <th>The Wizard of Oz</th>\n",
       "      <td>1939</td>\n",
       "      <td>Gus Wayne</td>\n",
       "      <td>actor</td>\n",
       "      <td>Munchkin Soldier</td>\n",
       "      <td>NaN</td>\n",
       "    </tr>\n",
       "    <tr>\n",
       "      <th>The Wizard of Oz</th>\n",
       "      <td>1939</td>\n",
       "      <td>Sid Dawson</td>\n",
       "      <td>actor</td>\n",
       "      <td>Winged Monkey</td>\n",
       "      <td>NaN</td>\n",
       "    </tr>\n",
       "    <tr>\n",
       "      <th>The Wizard of Oz</th>\n",
       "      <td>1939</td>\n",
       "      <td>Daisy Earles</td>\n",
       "      <td>actress</td>\n",
       "      <td>Munchkin Villager</td>\n",
       "      <td>NaN</td>\n",
       "    </tr>\n",
       "    <tr>\n",
       "      <th>...</th>\n",
       "      <td>...</td>\n",
       "      <td>...</td>\n",
       "      <td>...</td>\n",
       "      <td>...</td>\n",
       "      <td>...</td>\n",
       "    </tr>\n",
       "    <tr>\n",
       "      <th>The Wizard of Oz</th>\n",
       "      <td>1939</td>\n",
       "      <td>Harry Monty</td>\n",
       "      <td>actor</td>\n",
       "      <td>Munchkin Soldier</td>\n",
       "      <td>NaN</td>\n",
       "    </tr>\n",
       "    <tr>\n",
       "      <th>The Wizard of Oz</th>\n",
       "      <td>1939</td>\n",
       "      <td>Frank Morgan</td>\n",
       "      <td>actor</td>\n",
       "      <td>The Gatekeeper</td>\n",
       "      <td>2</td>\n",
       "    </tr>\n",
       "    <tr>\n",
       "      <th>The Wizard of Oz</th>\n",
       "      <td>1939</td>\n",
       "      <td>Rae-Nell Laskey</td>\n",
       "      <td>actress</td>\n",
       "      <td>Munchkin Child</td>\n",
       "      <td>NaN</td>\n",
       "    </tr>\n",
       "    <tr>\n",
       "      <th>The Wizard of Oz</th>\n",
       "      <td>1939</td>\n",
       "      <td>Harry Monty</td>\n",
       "      <td>actor</td>\n",
       "      <td>Winged Monkey</td>\n",
       "      <td>NaN</td>\n",
       "    </tr>\n",
       "    <tr>\n",
       "      <th>The Wizard of Oz</th>\n",
       "      <td>1939</td>\n",
       "      <td>Frank Morgan</td>\n",
       "      <td>actor</td>\n",
       "      <td>The Wizard of Oz</td>\n",
       "      <td>2</td>\n",
       "    </tr>\n",
       "    <tr>\n",
       "      <th>The Wizard of Oz</th>\n",
       "      <td>1939</td>\n",
       "      <td>Frank Morgan</td>\n",
       "      <td>actor</td>\n",
       "      <td>Professor Marvel</td>\n",
       "      <td>2</td>\n",
       "    </tr>\n",
       "    <tr>\n",
       "      <th>The Wizard of Oz</th>\n",
       "      <td>1939</td>\n",
       "      <td>Margaret Pellegrini</td>\n",
       "      <td>actress</td>\n",
       "      <td>Sleepyhead</td>\n",
       "      <td>NaN</td>\n",
       "    </tr>\n",
       "    <tr>\n",
       "      <th>The Wizard of Oz</th>\n",
       "      <td>1939</td>\n",
       "      <td>Murray (II) Wood</td>\n",
       "      <td>actor</td>\n",
       "      <td>Munchkin City Father</td>\n",
       "      <td>NaN</td>\n",
       "    </tr>\n",
       "    <tr>\n",
       "      <th>The Wizard of Oz</th>\n",
       "      <td>1939</td>\n",
       "      <td>Margaret Pellegrini</td>\n",
       "      <td>actress</td>\n",
       "      <td>Munchkin Villager</td>\n",
       "      <td>NaN</td>\n",
       "    </tr>\n",
       "    <tr>\n",
       "      <th>The Wizard of Oz</th>\n",
       "      <td>1939</td>\n",
       "      <td>Ethelreda Leopold</td>\n",
       "      <td>actress</td>\n",
       "      <td>Emerald City Manicurist</td>\n",
       "      <td>NaN</td>\n",
       "    </tr>\n",
       "    <tr>\n",
       "      <th>The Wizard of Oz</th>\n",
       "      <td>1939</td>\n",
       "      <td>Tyler Brooke</td>\n",
       "      <td>actor</td>\n",
       "      <td>Ozmite</td>\n",
       "      <td>NaN</td>\n",
       "    </tr>\n",
       "    <tr>\n",
       "      <th>The Wizard of Oz</th>\n",
       "      <td>1939</td>\n",
       "      <td>Johnny Leal</td>\n",
       "      <td>actor</td>\n",
       "      <td>Munchkin Villager</td>\n",
       "      <td>NaN</td>\n",
       "    </tr>\n",
       "    <tr>\n",
       "      <th>The Wizard of Oz</th>\n",
       "      <td>1939</td>\n",
       "      <td>Sig Frohlich</td>\n",
       "      <td>actor</td>\n",
       "      <td>Winged Monkey</td>\n",
       "      <td>NaN</td>\n",
       "    </tr>\n",
       "    <tr>\n",
       "      <th>The Wizard of Oz</th>\n",
       "      <td>1939</td>\n",
       "      <td>Jack Haley</td>\n",
       "      <td>actor</td>\n",
       "      <td>'Hickory'</td>\n",
       "      <td>5</td>\n",
       "    </tr>\n",
       "    <tr>\n",
       "      <th>The Wizard of Oz</th>\n",
       "      <td>1939</td>\n",
       "      <td>Karl 'Karchy' Kosiczky</td>\n",
       "      <td>actor</td>\n",
       "      <td>Munchkin Herald #1</td>\n",
       "      <td>NaN</td>\n",
       "    </tr>\n",
       "    <tr>\n",
       "      <th>The Wizard of Oz</th>\n",
       "      <td>1939</td>\n",
       "      <td>Ruth Duccini</td>\n",
       "      <td>actress</td>\n",
       "      <td>Munchkin Villager</td>\n",
       "      <td>NaN</td>\n",
       "    </tr>\n",
       "    <tr>\n",
       "      <th>The Wizard of Oz</th>\n",
       "      <td>1939</td>\n",
       "      <td>Abe Dinovitch</td>\n",
       "      <td>actor</td>\n",
       "      <td>Munchkin</td>\n",
       "      <td>NaN</td>\n",
       "    </tr>\n",
       "    <tr>\n",
       "      <th>The Wizard of Oz</th>\n",
       "      <td>1939</td>\n",
       "      <td>Ken Darby</td>\n",
       "      <td>actor</td>\n",
       "      <td>Munchkinland Mayor</td>\n",
       "      <td>NaN</td>\n",
       "    </tr>\n",
       "    <tr>\n",
       "      <th>The Wizard of Oz</th>\n",
       "      <td>1939</td>\n",
       "      <td>The Rhythmettes</td>\n",
       "      <td>actress</td>\n",
       "      <td>Themselves</td>\n",
       "      <td>NaN</td>\n",
       "    </tr>\n",
       "    <tr>\n",
       "      <th>The Wizard of Oz</th>\n",
       "      <td>1939</td>\n",
       "      <td>Dolly Kramer</td>\n",
       "      <td>actress</td>\n",
       "      <td>Munchkin Villager</td>\n",
       "      <td>NaN</td>\n",
       "    </tr>\n",
       "    <tr>\n",
       "      <th>The Wizard of Oz</th>\n",
       "      <td>1939</td>\n",
       "      <td>Mickey Carroll</td>\n",
       "      <td>actor</td>\n",
       "      <td>Munchkin Fiddler</td>\n",
       "      <td>NaN</td>\n",
       "    </tr>\n",
       "    <tr>\n",
       "      <th>The Wizard of Oz</th>\n",
       "      <td>1939</td>\n",
       "      <td>Oliver (III) Smith</td>\n",
       "      <td>actor</td>\n",
       "      <td>Ozmite</td>\n",
       "      <td>NaN</td>\n",
       "    </tr>\n",
       "    <tr>\n",
       "      <th>The Wizard of Oz</th>\n",
       "      <td>1939</td>\n",
       "      <td>Judy Garland</td>\n",
       "      <td>actress</td>\n",
       "      <td>Dorothy</td>\n",
       "      <td>1</td>\n",
       "    </tr>\n",
       "    <tr>\n",
       "      <th>The Wizard of Oz</th>\n",
       "      <td>1939</td>\n",
       "      <td>Abe Dinovitch</td>\n",
       "      <td>actor</td>\n",
       "      <td>Apple Tree</td>\n",
       "      <td>NaN</td>\n",
       "    </tr>\n",
       "    <tr>\n",
       "      <th>The Wizard of Oz</th>\n",
       "      <td>1939</td>\n",
       "      <td>Freddie Retter</td>\n",
       "      <td>actor</td>\n",
       "      <td>Munchkin Fiddler</td>\n",
       "      <td>NaN</td>\n",
       "    </tr>\n",
       "    <tr>\n",
       "      <th>The Wizard of Oz</th>\n",
       "      <td>1939</td>\n",
       "      <td>Phil Harron</td>\n",
       "      <td>actor</td>\n",
       "      <td>Winkie</td>\n",
       "      <td>NaN</td>\n",
       "    </tr>\n",
       "    <tr>\n",
       "      <th>The Wizard of Oz</th>\n",
       "      <td>1939</td>\n",
       "      <td>Jerry Maren</td>\n",
       "      <td>actor</td>\n",
       "      <td>Lollipop Guild Member</td>\n",
       "      <td>NaN</td>\n",
       "    </tr>\n",
       "    <tr>\n",
       "      <th>The Wizard of Oz</th>\n",
       "      <td>1939</td>\n",
       "      <td>Jack Haley</td>\n",
       "      <td>actor</td>\n",
       "      <td>The Tin Man</td>\n",
       "      <td>5</td>\n",
       "    </tr>\n",
       "    <tr>\n",
       "      <th>The Wizard of Oz</th>\n",
       "      <td>1939</td>\n",
       "      <td>Lee Murray</td>\n",
       "      <td>actor</td>\n",
       "      <td>Winged Monkey</td>\n",
       "      <td>NaN</td>\n",
       "    </tr>\n",
       "    <tr>\n",
       "      <th>The Wizard of Oz</th>\n",
       "      <td>1939</td>\n",
       "      <td>Betty Tanner</td>\n",
       "      <td>actress</td>\n",
       "      <td>Munchkin Villager</td>\n",
       "      <td>NaN</td>\n",
       "    </tr>\n",
       "  </tbody>\n",
       "</table>\n",
       "<p>149 rows × 5 columns</p>\n",
       "</div>"
      ],
      "text/plain": [
       "                  year                    name     type  \\\n",
       "title                                                     \n",
       "The Wizard of Oz  1925            Spencer Bell    actor   \n",
       "The Wizard of Oz  1925            Spencer Bell    actor   \n",
       "The Wizard of Oz  1925         Chester Conklin    actor   \n",
       "The Wizard of Oz  1925               Mary Carr  actress   \n",
       "The Wizard of Oz  1925           William Dinus    actor   \n",
       "The Wizard of Oz  1925         Frank Alexander    actor   \n",
       "The Wizard of Oz  1925          Charles Murray    actor   \n",
       "The Wizard of Oz  1925            Otto Lederer    actor   \n",
       "The Wizard of Oz  1925          Rosalind Byrne  actress   \n",
       "The Wizard of Oz  1925         Bryant Washburn    actor   \n",
       "The Wizard of Oz  1925             Larry Semon    actor   \n",
       "The Wizard of Oz  1925             Larry Semon    actor   \n",
       "The Wizard of Oz  1925          William Hauber    actor   \n",
       "The Wizard of Oz  1925            Wanda Hawley  actress   \n",
       "The Wizard of Oz  1925             Larry Semon    actor   \n",
       "The Wizard of Oz  1925            Oliver Hardy    actor   \n",
       "The Wizard of Oz  1925            Oliver Hardy    actor   \n",
       "The Wizard of Oz  1925            Oliver Hardy    actor   \n",
       "The Wizard of Oz  1925         Frank Alexander    actor   \n",
       "The Wizard of Oz  1925          Josef Swickard    actor   \n",
       "The Wizard of Oz  1925        Virginia Pearson  actress   \n",
       "The Wizard of Oz  1925            Dorothy Dwan  actress   \n",
       "The Wizard of Oz  1925       Frederick Ko Vert    actor   \n",
       "The Wizard of Oz  1925            Dorothy Dwan  actress   \n",
       "The Wizard of Oz  1925            Spencer Bell    actor   \n",
       "The Wizard of Oz  1939            Harry Wilson    actor   \n",
       "The Wizard of Oz  1939            Billie Burke  actress   \n",
       "The Wizard of Oz  1939               Gus Wayne    actor   \n",
       "The Wizard of Oz  1939              Sid Dawson    actor   \n",
       "The Wizard of Oz  1939            Daisy Earles  actress   \n",
       "...                ...                     ...      ...   \n",
       "The Wizard of Oz  1939             Harry Monty    actor   \n",
       "The Wizard of Oz  1939            Frank Morgan    actor   \n",
       "The Wizard of Oz  1939         Rae-Nell Laskey  actress   \n",
       "The Wizard of Oz  1939             Harry Monty    actor   \n",
       "The Wizard of Oz  1939            Frank Morgan    actor   \n",
       "The Wizard of Oz  1939            Frank Morgan    actor   \n",
       "The Wizard of Oz  1939     Margaret Pellegrini  actress   \n",
       "The Wizard of Oz  1939        Murray (II) Wood    actor   \n",
       "The Wizard of Oz  1939     Margaret Pellegrini  actress   \n",
       "The Wizard of Oz  1939       Ethelreda Leopold  actress   \n",
       "The Wizard of Oz  1939            Tyler Brooke    actor   \n",
       "The Wizard of Oz  1939             Johnny Leal    actor   \n",
       "The Wizard of Oz  1939            Sig Frohlich    actor   \n",
       "The Wizard of Oz  1939              Jack Haley    actor   \n",
       "The Wizard of Oz  1939  Karl 'Karchy' Kosiczky    actor   \n",
       "The Wizard of Oz  1939            Ruth Duccini  actress   \n",
       "The Wizard of Oz  1939           Abe Dinovitch    actor   \n",
       "The Wizard of Oz  1939               Ken Darby    actor   \n",
       "The Wizard of Oz  1939         The Rhythmettes  actress   \n",
       "The Wizard of Oz  1939            Dolly Kramer  actress   \n",
       "The Wizard of Oz  1939          Mickey Carroll    actor   \n",
       "The Wizard of Oz  1939      Oliver (III) Smith    actor   \n",
       "The Wizard of Oz  1939            Judy Garland  actress   \n",
       "The Wizard of Oz  1939           Abe Dinovitch    actor   \n",
       "The Wizard of Oz  1939          Freddie Retter    actor   \n",
       "The Wizard of Oz  1939             Phil Harron    actor   \n",
       "The Wizard of Oz  1939             Jerry Maren    actor   \n",
       "The Wizard of Oz  1939              Jack Haley    actor   \n",
       "The Wizard of Oz  1939              Lee Murray    actor   \n",
       "The Wizard of Oz  1939            Betty Tanner  actress   \n",
       "\n",
       "                                    character   n  \n",
       "title                                              \n",
       "The Wizard of Oz  Snowball (as G. Howe Black) NaN  \n",
       "The Wizard of Oz                Cowardly Lion NaN  \n",
       "The Wizard of Oz            Undetermined Role NaN  \n",
       "The Wizard of Oz                      Aunt Em   2  \n",
       "The Wizard of Oz            Undetermined Role   9  \n",
       "The Wizard of Oz             Prince of Whales  10  \n",
       "The Wizard of Oz                 Wizard of Oz   6  \n",
       "The Wizard of Oz            Ambassador Wikked  11  \n",
       "The Wizard of Oz             Herald Trumpeter NaN  \n",
       "The Wizard of Oz                  Prince Kynd   4  \n",
       "The Wizard of Oz                    Scarecrow  13  \n",
       "The Wizard of Oz                     Toymaker  13  \n",
       "The Wizard of Oz            Undetermined Role   8  \n",
       "The Wizard of Oz            Undetermined Role NaN  \n",
       "The Wizard of Oz                     Farmhand  13  \n",
       "The Wizard of Oz                     Farmhand   7  \n",
       "The Wizard of Oz         Knight of the Garter   7  \n",
       "The Wizard of Oz                     Woodsman   7  \n",
       "The Wizard of Oz                 Uncle Henry   10  \n",
       "The Wizard of Oz         Prime Minister Kruel   5  \n",
       "The Wizard of Oz                 Lady Vishuss   3  \n",
       "The Wizard of Oz                     Dorothy    1  \n",
       "The Wizard of Oz        Phantom of the Basket  12  \n",
       "The Wizard of Oz            Princess Dorothea   1  \n",
       "The Wizard of Oz                       Rastus NaN  \n",
       "The Wizard of Oz                       Winkie NaN  \n",
       "The Wizard of Oz                       Glinda   6  \n",
       "The Wizard of Oz             Munchkin Soldier NaN  \n",
       "The Wizard of Oz                Winged Monkey NaN  \n",
       "The Wizard of Oz            Munchkin Villager NaN  \n",
       "...                                       ...  ..  \n",
       "The Wizard of Oz             Munchkin Soldier NaN  \n",
       "The Wizard of Oz               The Gatekeeper   2  \n",
       "The Wizard of Oz               Munchkin Child NaN  \n",
       "The Wizard of Oz                Winged Monkey NaN  \n",
       "The Wizard of Oz             The Wizard of Oz   2  \n",
       "The Wizard of Oz             Professor Marvel   2  \n",
       "The Wizard of Oz                   Sleepyhead NaN  \n",
       "The Wizard of Oz         Munchkin City Father NaN  \n",
       "The Wizard of Oz            Munchkin Villager NaN  \n",
       "The Wizard of Oz      Emerald City Manicurist NaN  \n",
       "The Wizard of Oz                       Ozmite NaN  \n",
       "The Wizard of Oz            Munchkin Villager NaN  \n",
       "The Wizard of Oz                Winged Monkey NaN  \n",
       "The Wizard of Oz                    'Hickory'   5  \n",
       "The Wizard of Oz           Munchkin Herald #1 NaN  \n",
       "The Wizard of Oz            Munchkin Villager NaN  \n",
       "The Wizard of Oz                     Munchkin NaN  \n",
       "The Wizard of Oz           Munchkinland Mayor NaN  \n",
       "The Wizard of Oz                   Themselves NaN  \n",
       "The Wizard of Oz            Munchkin Villager NaN  \n",
       "The Wizard of Oz             Munchkin Fiddler NaN  \n",
       "The Wizard of Oz                       Ozmite NaN  \n",
       "The Wizard of Oz                      Dorothy   1  \n",
       "The Wizard of Oz                   Apple Tree NaN  \n",
       "The Wizard of Oz             Munchkin Fiddler NaN  \n",
       "The Wizard of Oz                       Winkie NaN  \n",
       "The Wizard of Oz        Lollipop Guild Member NaN  \n",
       "The Wizard of Oz                  The Tin Man   5  \n",
       "The Wizard of Oz                Winged Monkey NaN  \n",
       "The Wizard of Oz            Munchkin Villager NaN  \n",
       "\n",
       "[149 rows x 5 columns]"
      ]
     },
     "execution_count": 34,
     "metadata": {},
     "output_type": "execute_result"
    }
   ],
   "source": [
    "%%time\n",
    "c.loc[\"The Wizard of Oz\"].sort_values(\"year\") # to really utilize loc[] you need to sort the index so that it can do a binary search"
   ]
  },
  {
   "cell_type": "code",
   "execution_count": 35,
   "metadata": {
    "collapsed": false
   },
   "outputs": [
    {
     "data": {
      "text/html": [
       "<div>\n",
       "<table border=\"1\" class=\"dataframe\">\n",
       "  <thead>\n",
       "    <tr style=\"text-align: right;\">\n",
       "      <th></th>\n",
       "      <th></th>\n",
       "      <th>name</th>\n",
       "      <th>type</th>\n",
       "      <th>character</th>\n",
       "      <th>n</th>\n",
       "    </tr>\n",
       "    <tr>\n",
       "      <th>title</th>\n",
       "      <th>year</th>\n",
       "      <th></th>\n",
       "      <th></th>\n",
       "      <th></th>\n",
       "      <th></th>\n",
       "    </tr>\n",
       "  </thead>\n",
       "  <tbody>\n",
       "    <tr>\n",
       "      <th rowspan=\"5\" valign=\"top\">#1 Serial Killer</th>\n",
       "      <th>2013</th>\n",
       "      <td>Michael Alton</td>\n",
       "      <td>actor</td>\n",
       "      <td>Detective Roberts</td>\n",
       "      <td>17</td>\n",
       "    </tr>\n",
       "    <tr>\n",
       "      <th>2013</th>\n",
       "      <td>Aaron Aoki</td>\n",
       "      <td>actor</td>\n",
       "      <td>Plastic Bag Victim</td>\n",
       "      <td>21</td>\n",
       "    </tr>\n",
       "    <tr>\n",
       "      <th>2013</th>\n",
       "      <td>Zachary (X) Brown</td>\n",
       "      <td>actor</td>\n",
       "      <td>Africian American Teen</td>\n",
       "      <td>18</td>\n",
       "    </tr>\n",
       "    <tr>\n",
       "      <th>2013</th>\n",
       "      <td>Yvis Cannavale</td>\n",
       "      <td>actor</td>\n",
       "      <td>Homeless Man</td>\n",
       "      <td>25</td>\n",
       "    </tr>\n",
       "    <tr>\n",
       "      <th>2013</th>\n",
       "      <td>Patrick Chien</td>\n",
       "      <td>actor</td>\n",
       "      <td>Cleaver Victim</td>\n",
       "      <td>22</td>\n",
       "    </tr>\n",
       "  </tbody>\n",
       "</table>\n",
       "</div>"
      ],
      "text/plain": [
       "                                    name   type               character   n\n",
       "title            year                                                      \n",
       "#1 Serial Killer 2013      Michael Alton  actor       Detective Roberts  17\n",
       "                 2013         Aaron Aoki  actor      Plastic Bag Victim  21\n",
       "                 2013  Zachary (X) Brown  actor  Africian American Teen  18\n",
       "                 2013     Yvis Cannavale  actor            Homeless Man  25\n",
       "                 2013      Patrick Chien  actor          Cleaver Victim  22"
      ]
     },
     "execution_count": 35,
     "metadata": {},
     "output_type": "execute_result"
    }
   ],
   "source": [
    "c = cast.set_index(['title', 'year']).sort_index()\n",
    "c.head()"
   ]
  },
  {
   "cell_type": "code",
   "execution_count": 36,
   "metadata": {
    "collapsed": false
   },
   "outputs": [
    {
     "data": {
      "text/html": [
       "<div>\n",
       "<table border=\"1\" class=\"dataframe\">\n",
       "  <thead>\n",
       "    <tr style=\"text-align: right;\">\n",
       "      <th></th>\n",
       "      <th>name</th>\n",
       "      <th>type</th>\n",
       "      <th>character</th>\n",
       "      <th>n</th>\n",
       "    </tr>\n",
       "    <tr>\n",
       "      <th>year</th>\n",
       "      <th></th>\n",
       "      <th></th>\n",
       "      <th></th>\n",
       "      <th></th>\n",
       "    </tr>\n",
       "  </thead>\n",
       "  <tbody>\n",
       "    <tr>\n",
       "      <th>2007</th>\n",
       "      <td>Kenneth Branagh</td>\n",
       "      <td>actor</td>\n",
       "      <td>Other Man on T.V.</td>\n",
       "      <td>NaN</td>\n",
       "    </tr>\n",
       "    <tr>\n",
       "      <th>2007</th>\n",
       "      <td>Michael Caine</td>\n",
       "      <td>actor</td>\n",
       "      <td>Andrew</td>\n",
       "      <td>1</td>\n",
       "    </tr>\n",
       "    <tr>\n",
       "      <th>2007</th>\n",
       "      <td>Alec (II) Cawthorne</td>\n",
       "      <td>actor</td>\n",
       "      <td>Inspector Doppler</td>\n",
       "      <td>NaN</td>\n",
       "    </tr>\n",
       "    <tr>\n",
       "      <th>2007</th>\n",
       "      <td>Jude Law</td>\n",
       "      <td>actor</td>\n",
       "      <td>Milo</td>\n",
       "      <td>2</td>\n",
       "    </tr>\n",
       "    <tr>\n",
       "      <th>2007</th>\n",
       "      <td>Harold Pinter</td>\n",
       "      <td>actor</td>\n",
       "      <td>Man on T.V.</td>\n",
       "      <td>3</td>\n",
       "    </tr>\n",
       "    <tr>\n",
       "      <th>2007</th>\n",
       "      <td>Eve (II) Channing</td>\n",
       "      <td>actress</td>\n",
       "      <td>Marguerite Wyke</td>\n",
       "      <td>NaN</td>\n",
       "    </tr>\n",
       "    <tr>\n",
       "      <th>2007</th>\n",
       "      <td>Carmel O'Sullivan</td>\n",
       "      <td>actress</td>\n",
       "      <td>Maggie</td>\n",
       "      <td>NaN</td>\n",
       "    </tr>\n",
       "  </tbody>\n",
       "</table>\n",
       "</div>"
      ],
      "text/plain": [
       "                     name     type          character   n\n",
       "year                                                     \n",
       "2007      Kenneth Branagh    actor  Other Man on T.V. NaN\n",
       "2007        Michael Caine    actor             Andrew   1\n",
       "2007  Alec (II) Cawthorne    actor  Inspector Doppler NaN\n",
       "2007             Jude Law    actor               Milo   2\n",
       "2007        Harold Pinter    actor        Man on T.V.   3\n",
       "2007    Eve (II) Channing  actress    Marguerite Wyke NaN\n",
       "2007    Carmel O'Sullivan  actress             Maggie NaN"
      ]
     },
     "execution_count": 36,
     "metadata": {},
     "output_type": "execute_result"
    }
   ],
   "source": [
    "c.loc[\"Sleuth\"].loc[2007]"
   ]
  },
  {
   "cell_type": "code",
   "execution_count": 37,
   "metadata": {
    "collapsed": false
   },
   "outputs": [
    {
     "data": {
      "text/html": [
       "<div>\n",
       "<table border=\"1\" class=\"dataframe\">\n",
       "  <thead>\n",
       "    <tr style=\"text-align: right;\">\n",
       "      <th></th>\n",
       "      <th></th>\n",
       "      <th>name</th>\n",
       "      <th>type</th>\n",
       "      <th>character</th>\n",
       "      <th>n</th>\n",
       "    </tr>\n",
       "    <tr>\n",
       "      <th>title</th>\n",
       "      <th>year</th>\n",
       "      <th></th>\n",
       "      <th></th>\n",
       "      <th></th>\n",
       "      <th></th>\n",
       "    </tr>\n",
       "  </thead>\n",
       "  <tbody>\n",
       "    <tr>\n",
       "      <th rowspan=\"6\" valign=\"top\">Sleuth</th>\n",
       "      <th>1972</th>\n",
       "      <td>Michael Caine</td>\n",
       "      <td>actor</td>\n",
       "      <td>Milo Tindle</td>\n",
       "      <td>2</td>\n",
       "    </tr>\n",
       "    <tr>\n",
       "      <th>1972</th>\n",
       "      <td>Alec Cawthorne</td>\n",
       "      <td>actor</td>\n",
       "      <td>Inspector Doppler</td>\n",
       "      <td>3</td>\n",
       "    </tr>\n",
       "    <tr>\n",
       "      <th>1972</th>\n",
       "      <td>Teddy Martin</td>\n",
       "      <td>actor</td>\n",
       "      <td>Police Constable Higgs</td>\n",
       "      <td>6</td>\n",
       "    </tr>\n",
       "    <tr>\n",
       "      <th>1972</th>\n",
       "      <td>John (II) Matthews</td>\n",
       "      <td>actor</td>\n",
       "      <td>Detective Sergeant Tarrant</td>\n",
       "      <td>4</td>\n",
       "    </tr>\n",
       "    <tr>\n",
       "      <th>1972</th>\n",
       "      <td>Laurence Olivier</td>\n",
       "      <td>actor</td>\n",
       "      <td>Andrew Wyke</td>\n",
       "      <td>1</td>\n",
       "    </tr>\n",
       "    <tr>\n",
       "      <th>1972</th>\n",
       "      <td>Eve (III) Channing</td>\n",
       "      <td>actress</td>\n",
       "      <td>Marguerite Wyke</td>\n",
       "      <td>5</td>\n",
       "    </tr>\n",
       "  </tbody>\n",
       "</table>\n",
       "</div>"
      ],
      "text/plain": [
       "                           name     type                   character  n\n",
       "title  year                                                            \n",
       "Sleuth 1972       Michael Caine    actor                 Milo Tindle  2\n",
       "       1972      Alec Cawthorne    actor           Inspector Doppler  3\n",
       "       1972        Teddy Martin    actor      Police Constable Higgs  6\n",
       "       1972  John (II) Matthews    actor  Detective Sergeant Tarrant  4\n",
       "       1972    Laurence Olivier    actor                 Andrew Wyke  1\n",
       "       1972  Eve (III) Channing  actress             Marguerite Wyke  5"
      ]
     },
     "execution_count": 37,
     "metadata": {},
     "output_type": "execute_result"
    }
   ],
   "source": [
    "c.loc[('Sleuth', 1972)]"
   ]
  },
  {
   "cell_type": "code",
   "execution_count": 38,
   "metadata": {
    "collapsed": false
   },
   "outputs": [
    {
     "data": {
      "text/html": [
       "<div>\n",
       "<table border=\"1\" class=\"dataframe\">\n",
       "  <thead>\n",
       "    <tr style=\"text-align: right;\">\n",
       "      <th></th>\n",
       "      <th>year</th>\n",
       "      <th>name</th>\n",
       "      <th>type</th>\n",
       "      <th>character</th>\n",
       "      <th>n</th>\n",
       "    </tr>\n",
       "    <tr>\n",
       "      <th>title</th>\n",
       "      <th></th>\n",
       "      <th></th>\n",
       "      <th></th>\n",
       "      <th></th>\n",
       "      <th></th>\n",
       "    </tr>\n",
       "  </thead>\n",
       "  <tbody>\n",
       "    <tr>\n",
       "      <th>Sleuth</th>\n",
       "      <td>1972</td>\n",
       "      <td>Michael Caine</td>\n",
       "      <td>actor</td>\n",
       "      <td>Milo Tindle</td>\n",
       "      <td>2</td>\n",
       "    </tr>\n",
       "    <tr>\n",
       "      <th>Sleuth</th>\n",
       "      <td>1972</td>\n",
       "      <td>Alec Cawthorne</td>\n",
       "      <td>actor</td>\n",
       "      <td>Inspector Doppler</td>\n",
       "      <td>3</td>\n",
       "    </tr>\n",
       "    <tr>\n",
       "      <th>Sleuth</th>\n",
       "      <td>1972</td>\n",
       "      <td>Teddy Martin</td>\n",
       "      <td>actor</td>\n",
       "      <td>Police Constable Higgs</td>\n",
       "      <td>6</td>\n",
       "    </tr>\n",
       "    <tr>\n",
       "      <th>Sleuth</th>\n",
       "      <td>1972</td>\n",
       "      <td>John (II) Matthews</td>\n",
       "      <td>actor</td>\n",
       "      <td>Detective Sergeant Tarrant</td>\n",
       "      <td>4</td>\n",
       "    </tr>\n",
       "    <tr>\n",
       "      <th>Sleuth</th>\n",
       "      <td>1972</td>\n",
       "      <td>Laurence Olivier</td>\n",
       "      <td>actor</td>\n",
       "      <td>Andrew Wyke</td>\n",
       "      <td>1</td>\n",
       "    </tr>\n",
       "    <tr>\n",
       "      <th>Sleuth</th>\n",
       "      <td>1972</td>\n",
       "      <td>Eve (III) Channing</td>\n",
       "      <td>actress</td>\n",
       "      <td>Marguerite Wyke</td>\n",
       "      <td>5</td>\n",
       "    </tr>\n",
       "  </tbody>\n",
       "</table>\n",
       "</div>"
      ],
      "text/plain": [
       "        year                name     type                   character  n\n",
       "title                                                                   \n",
       "Sleuth  1972       Michael Caine    actor                 Milo Tindle  2\n",
       "Sleuth  1972      Alec Cawthorne    actor           Inspector Doppler  3\n",
       "Sleuth  1972        Teddy Martin    actor      Police Constable Higgs  6\n",
       "Sleuth  1972  John (II) Matthews    actor  Detective Sergeant Tarrant  4\n",
       "Sleuth  1972    Laurence Olivier    actor                 Andrew Wyke  1\n",
       "Sleuth  1972  Eve (III) Channing  actress             Marguerite Wyke  5"
      ]
     },
     "execution_count": 38,
     "metadata": {},
     "output_type": "execute_result"
    }
   ],
   "source": [
    "c.loc[('Sleuth', 1972)].reset_index('year')"
   ]
  },
  {
   "cell_type": "code",
   "execution_count": 48,
   "metadata": {
    "collapsed": false
   },
   "outputs": [
    {
     "data": {
      "text/plain": [
       "title                              year  character               \n",
       "A Very Murray Christmas            2015  George Clooney              1\n",
       "Batman & Robin                     1997  Batman                      1\n",
       "                                         Bruce Wayne                 1\n",
       "Burn After Reading                 2008  Harry Pfarrer               1\n",
       "Confessions of a Dangerous Mind    2002  Jim Byrd                    1\n",
       "Curdled                            1996  Seth Gecko                  1\n",
       "Fantastic Mr. Fox                  2009  Mr. Fox                     1\n",
       "From Dusk Till Dawn                1996  Seth Gecko                  1\n",
       "Good Night, and Good Luck.         2005  Fred Friendly               1\n",
       "Gravity                            2013  Matt Kowalski               1\n",
       "Hail, Caesar!                      2016  Baird Whitlock              1\n",
       "Intolerable Cruelty                2003  Miles                       1\n",
       "Leatherheads                       2008  Dodge Connelly              1\n",
       "Michael Clayton                    2007  Michael Clayton             1\n",
       "Money Monster                      2016  Lee Gates                   1\n",
       "Morning Glory                      2010  Himself                     1\n",
       "O Brother, Where Art Thou?         2000  Everett                     1\n",
       "Ocean's Eleven                     2001  Danny Ocean                 1\n",
       "Ocean's Thirteen                   2007  Danny Ocean                 1\n",
       "Ocean's Twelve                     2004  Danny Ocean                 1\n",
       "One Fine Day                       1996  Jack Taylor                 1\n",
       "Out of Sight                       1998  Jack Foley                  1\n",
       "Return of the Killer Tomatoes!     1988  Matt Stevens                1\n",
       "Return to Horror High              1987  Oliver                      1\n",
       "Solaris                            2002  Chris Kelvin                1\n",
       "South Park: Bigger Longer & Uncut  1999  Dr. Gouache                 1\n",
       "Spy Kids                           2001  Devlin                      1\n",
       "Spy Kids 3-D: Game Over            2003  Devlin                      1\n",
       "Syriana                            2005  Bob Barnes                  1\n",
       "The American                       2010  Edward                      1\n",
       "                                         Jack                        1\n",
       "The Book That Wrote Itself         1999  Himself                     1\n",
       "The Descendants                    2011  Matt King                   1\n",
       "The Good German                    2006  Jake Geismer                1\n",
       "The Harvest                        1992  Lip Syncing Transvestite    1\n",
       "The Ides of March                  2011  Governor Mike Morris        1\n",
       "The Limey                          1999  Himself                     1\n",
       "The Men Who Stare at Goats         2009  Lyn Cassady                 1\n",
       "The Monuments Men                  2014  Frank Stokes                1\n",
       "The Peacemaker                     1997  Lt. Col. Thomas Devoe       1\n",
       "The Perfect Storm                  2000  Captain Billy Tyne          1\n",
       "The Thin Red Line                  1998  Capt. Charles Bosche        1\n",
       "Three Kings                        1999  Archie Gates                1\n",
       "Tomorrowland                       2015  Frank Walker                1\n",
       "Unbecoming Age                     1992  Mac                         1\n",
       "Up in the Air                      2009  Ryan Bingham                1\n",
       "Welcome to Collinwood              2002  Jerzy                       1\n",
       "dtype: int64"
      ]
     },
     "execution_count": 48,
     "metadata": {},
     "output_type": "execute_result"
    }
   ],
   "source": [
    "c = cast\n",
    "c = c[c.name == \"George Clooney\"]\n",
    "c.groupby(['title', 'year', 'character']).size()"
   ]
  },
  {
   "cell_type": "code",
   "execution_count": 53,
   "metadata": {
    "collapsed": false
   },
   "outputs": [
    {
     "data": {
      "text/plain": [
       "year\n",
       "1987    1\n",
       "1988    1\n",
       "1992    2\n",
       "1996    3\n",
       "1997    3\n",
       "1998    2\n",
       "1999    4\n",
       "2000    2\n",
       "2001    2\n",
       "2002    3\n",
       "2003    2\n",
       "2004    1\n",
       "2005    2\n",
       "2006    1\n",
       "2007    2\n",
       "2008    2\n",
       "2009    3\n",
       "2010    3\n",
       "2011    2\n",
       "2013    1\n",
       "2014    1\n",
       "2015    2\n",
       "2016    2\n",
       "dtype: int64"
      ]
     },
     "execution_count": 53,
     "metadata": {},
     "output_type": "execute_result"
    }
   ],
   "source": [
    "c = cast\n",
    "c = c[c.name == \"George Clooney\"]\n",
    "c.groupby('year').size()"
   ]
  },
  {
   "cell_type": "code",
   "execution_count": 54,
   "metadata": {
    "collapsed": false
   },
   "outputs": [
    {
     "data": {
      "text/plain": [
       "<matplotlib.axes._subplots.AxesSubplot at 0x10846e950>"
      ]
     },
     "execution_count": 54,
     "metadata": {},
     "output_type": "execute_result"
    },
    {
     "data": {
      "image/png": "[encoded data removed]",
      "text/plain": [
       "<matplotlib.figure.Figure at 0x10787e3d0>"
      ]
     },
     "metadata": {},
     "output_type": "display_data"
    }
   ],
   "source": [
    "c = cast\n",
    "c = c[c.name == \"George Clooney\"]\n",
    "c.groupby('year').size().plot(kind='bar')"
   ]
  },
  {
   "cell_type": "code",
   "execution_count": 58,
   "metadata": {
    "collapsed": false
   },
   "outputs": [
    {
     "data": {
      "text/plain": [
       "<matplotlib.axes._subplots.AxesSubplot at 0x1407aa750>"
      ]
     },
     "execution_count": 58,
     "metadata": {},
     "output_type": "execute_result"
    },
    {
     "data": {
      "image/png": "[encoded data removed]",
      "text/plain": [
       "<matplotlib.figure.Figure at 0x140751710>"
      ]
     },
     "metadata": {},
     "output_type": "display_data"
    }
   ],
   "source": [
    "c = cast\n",
    "c = c[c.name == \"George Clooney\"]\n",
    "c.groupby('year').size().plot(ylim=0)"
   ]
  },
  {
   "cell_type": "code",
   "execution_count": 62,
   "metadata": {
    "collapsed": false
   },
   "outputs": [
    {
     "data": {
      "text/plain": [
       "year\n",
       "1987    15\n",
       "1988     2\n",
       "1992    23\n",
       "1996     2\n",
       "1997     2\n",
       "1998    14\n",
       "1999    11\n",
       "2000     1\n",
       "2001    36\n",
       "2002    17\n",
       "2003    22\n",
       "2004     3\n",
       "2005    15\n",
       "2006     1\n",
       "2007     6\n",
       "2008     5\n",
       "2009     1\n",
       "2010     1\n",
       "2011     2\n",
       "2013     2\n",
       "2014     1\n",
       "2015     4\n",
       "2016     2\n",
       "Name: n, dtype: float64"
      ]
     },
     "execution_count": 62,
     "metadata": {},
     "output_type": "execute_result"
    }
   ],
   "source": [
    "c = cast\n",
    "c = c[c.name == \"George Clooney\"]\n",
    "c.groupby('year').n.max()"
   ]
  },
  {
   "cell_type": "code",
   "execution_count": 70,
   "metadata": {
    "collapsed": false
   },
   "outputs": [
    {
     "data": {
      "text/plain": [
       "year\n",
       "1980     2\n",
       "1990    14\n",
       "2000    20\n",
       "2010    11\n",
       "dtype: int64"
      ]
     },
     "execution_count": 70,
     "metadata": {},
     "output_type": "execute_result"
    }
   ],
   "source": [
    "c = cast\n",
    "c = c[c.name == \"George Clooney\"]\n",
    "c.groupby(c.year // 10 * 10).n.size() # group by decade"
   ]
  },
  {
   "cell_type": "code",
   "execution_count": 80,
   "metadata": {
    "collapsed": false
   },
   "outputs": [
    {
     "data": {
      "text/html": [
       "<div>\n",
       "<table border=\"1\" class=\"dataframe\">\n",
       "  <thead>\n",
       "    <tr style=\"text-align: right;\">\n",
       "      <th></th>\n",
       "      <th>title</th>\n",
       "      <th>year</th>\n",
       "      <th>name</th>\n",
       "      <th>type</th>\n",
       "      <th>character</th>\n",
       "      <th>n</th>\n",
       "    </tr>\n",
       "  </thead>\n",
       "  <tbody>\n",
       "    <tr>\n",
       "      <th>0</th>\n",
       "      <td>Suuri illusioni</td>\n",
       "      <td>1985</td>\n",
       "      <td>Homo $</td>\n",
       "      <td>actor</td>\n",
       "      <td>Guests</td>\n",
       "      <td>22</td>\n",
       "    </tr>\n",
       "    <tr>\n",
       "      <th>1</th>\n",
       "      <td>Gangsta Rap: The Glockumentary</td>\n",
       "      <td>2007</td>\n",
       "      <td>Too $hort</td>\n",
       "      <td>actor</td>\n",
       "      <td>Himself</td>\n",
       "      <td>NaN</td>\n",
       "    </tr>\n",
       "    <tr>\n",
       "      <th>2</th>\n",
       "      <td>Menace II Society</td>\n",
       "      <td>1993</td>\n",
       "      <td>Too $hort</td>\n",
       "      <td>actor</td>\n",
       "      <td>Lew-Loc</td>\n",
       "      <td>27</td>\n",
       "    </tr>\n",
       "    <tr>\n",
       "      <th>3</th>\n",
       "      <td>Porndogs: The Adventures of Sadie</td>\n",
       "      <td>2009</td>\n",
       "      <td>Too $hort</td>\n",
       "      <td>actor</td>\n",
       "      <td>Bosco</td>\n",
       "      <td>3</td>\n",
       "    </tr>\n",
       "    <tr>\n",
       "      <th>4</th>\n",
       "      <td>Stop Pepper Palmer</td>\n",
       "      <td>2014</td>\n",
       "      <td>Too $hort</td>\n",
       "      <td>actor</td>\n",
       "      <td>Himself</td>\n",
       "      <td>NaN</td>\n",
       "    </tr>\n",
       "  </tbody>\n",
       "</table>\n",
       "</div>"
      ],
      "text/plain": [
       "                               title  year       name   type character   n\n",
       "0                    Suuri illusioni  1985     Homo $  actor    Guests  22\n",
       "1     Gangsta Rap: The Glockumentary  2007  Too $hort  actor   Himself NaN\n",
       "2                  Menace II Society  1993  Too $hort  actor   Lew-Loc  27\n",
       "3  Porndogs: The Adventures of Sadie  2009  Too $hort  actor     Bosco   3\n",
       "4                 Stop Pepper Palmer  2014  Too $hort  actor   Himself NaN"
      ]
     },
     "execution_count": 80,
     "metadata": {},
     "output_type": "execute_result"
    }
   ],
   "source": [
    "c = cast\n",
    "c.head()"
   ]
  },
  {
   "cell_type": "code",
   "execution_count": 81,
   "metadata": {
    "collapsed": false
   },
   "outputs": [
    {
     "data": {
      "text/plain": [
       "character         year\n",
       "Kermit the Frog   1970    1\n",
       "                  1980    4\n",
       "                  1990    2\n",
       "                  2000    1\n",
       "                  2010    1\n",
       "Oscar the Grouch  1980    1\n",
       "                  1990    1\n",
       "                  2000    1\n",
       "dtype: int64"
      ]
     },
     "execution_count": 81,
     "metadata": {},
     "output_type": "execute_result"
    }
   ],
   "source": [
    "c = cast\n",
    "c = c[(c.character == 'Kermit the Frog') \n",
    "     | (c.character == 'Oscar the Grouch')]\n",
    "g = c.groupby(['character', c.year //10 * 10]).size()\n",
    "g"
   ]
  },
  {
   "cell_type": "code",
   "execution_count": 82,
   "metadata": {
    "collapsed": false
   },
   "outputs": [
    {
     "data": {
      "text/html": [
       "<div>\n",
       "<table border=\"1\" class=\"dataframe\">\n",
       "  <thead>\n",
       "    <tr style=\"text-align: right;\">\n",
       "      <th>year</th>\n",
       "      <th>1970</th>\n",
       "      <th>1980</th>\n",
       "      <th>1990</th>\n",
       "      <th>2000</th>\n",
       "      <th>2010</th>\n",
       "    </tr>\n",
       "    <tr>\n",
       "      <th>character</th>\n",
       "      <th></th>\n",
       "      <th></th>\n",
       "      <th></th>\n",
       "      <th></th>\n",
       "      <th></th>\n",
       "    </tr>\n",
       "  </thead>\n",
       "  <tbody>\n",
       "    <tr>\n",
       "      <th>Kermit the Frog</th>\n",
       "      <td>1</td>\n",
       "      <td>4</td>\n",
       "      <td>2</td>\n",
       "      <td>1</td>\n",
       "      <td>1</td>\n",
       "    </tr>\n",
       "    <tr>\n",
       "      <th>Oscar the Grouch</th>\n",
       "      <td>NaN</td>\n",
       "      <td>1</td>\n",
       "      <td>1</td>\n",
       "      <td>1</td>\n",
       "      <td>NaN</td>\n",
       "    </tr>\n",
       "  </tbody>\n",
       "</table>\n",
       "</div>"
      ],
      "text/plain": [
       "year              1970  1980  1990  2000  2010\n",
       "character                                     \n",
       "Kermit the Frog      1     4     2     1     1\n",
       "Oscar the Grouch   NaN     1     1     1   NaN"
      ]
     },
     "execution_count": 82,
     "metadata": {},
     "output_type": "execute_result"
    }
   ],
   "source": [
    "g.unstack() #this is a valid view"
   ]
  },
  {
   "cell_type": "code",
   "execution_count": 91,
   "metadata": {
    "collapsed": false
   },
   "outputs": [
    {
     "data": {
      "text/plain": [
       "character         year\n",
       "Kermit the Frog   1970    1\n",
       "                  1980    4\n",
       "                  1990    2\n",
       "                  2000    1\n",
       "                  2010    1\n",
       "Oscar the Grouch  1970    0\n",
       "                  1980    1\n",
       "                  1990    1\n",
       "                  2000    1\n",
       "                  2010    0\n",
       "dtype: float64"
      ]
     },
     "execution_count": 91,
     "metadata": {},
     "output_type": "execute_result"
    }
   ],
   "source": [
    "g = g.unstack(0).fillna(0) #this is also valid, depends on how you want to look at your data\n",
    "g"
   ]
  },
  {
   "cell_type": "code",
   "execution_count": 92,
   "metadata": {
    "collapsed": false
   },
   "outputs": [
    {
     "data": {
      "text/plain": [
       "year\n",
       "1970    1\n",
       "1980    3\n",
       "1990    1\n",
       "2000    0\n",
       "2010    1\n",
       "dtype: float64"
      ]
     },
     "execution_count": 92,
     "metadata": {},
     "output_type": "execute_result"
    }
   ],
   "source": [
    "u = g.unstack(0)\n",
    "u['Kermit the Frog'] - u['Oscar the Grouch']"
   ]
  },
  {
   "cell_type": "code",
   "execution_count": 136,
   "metadata": {
    "collapsed": false
   },
   "outputs": [
    {
     "data": {
      "text/html": [
       "<div>\n",
       "<table border=\"1\" class=\"dataframe\">\n",
       "  <thead>\n",
       "    <tr style=\"text-align: right;\">\n",
       "      <th>type</th>\n",
       "      <th>actor</th>\n",
       "      <th>actress</th>\n",
       "    </tr>\n",
       "    <tr>\n",
       "      <th>year</th>\n",
       "      <th></th>\n",
       "      <th></th>\n",
       "    </tr>\n",
       "  </thead>\n",
       "  <tbody>\n",
       "    <tr>\n",
       "      <th>1894</th>\n",
       "      <td>2</td>\n",
       "      <td>1</td>\n",
       "    </tr>\n",
       "    <tr>\n",
       "      <th>1900</th>\n",
       "      <td>2</td>\n",
       "      <td>NaN</td>\n",
       "    </tr>\n",
       "    <tr>\n",
       "      <th>1905</th>\n",
       "      <td>1</td>\n",
       "      <td>NaN</td>\n",
       "    </tr>\n",
       "    <tr>\n",
       "      <th>1906</th>\n",
       "      <td>14</td>\n",
       "      <td>3</td>\n",
       "    </tr>\n",
       "    <tr>\n",
       "      <th>1907</th>\n",
       "      <td>5</td>\n",
       "      <td>NaN</td>\n",
       "    </tr>\n",
       "  </tbody>\n",
       "</table>\n",
       "</div>"
      ],
      "text/plain": [
       "type  actor  actress\n",
       "year                \n",
       "1894      2        1\n",
       "1900      2      NaN\n",
       "1905      1      NaN\n",
       "1906     14        3\n",
       "1907      5      NaN"
      ]
     },
     "execution_count": 136,
     "metadata": {},
     "output_type": "execute_result"
    }
   ],
   "source": [
    "c = cast\n",
    "c = c.groupby(['year', 'type']).size()\n",
    "g = c.unstack()\n",
    "g.head()\n",
    "#c.unstack('type').fillna(0) #if you dont type argument it is the same result, in this case at least"
   ]
  },
  {
   "cell_type": "code",
   "execution_count": 137,
   "metadata": {
    "collapsed": false
   },
   "outputs": [
    {
     "data": {
      "text/plain": [
       "<matplotlib.axes._subplots.AxesSubplot at 0x12d6c3310>"
      ]
     },
     "execution_count": 137,
     "metadata": {},
     "output_type": "execute_result"
    },
    {
     "data": {
      "image/png": "[encoded data removed]",
      "text/plain": [
       "<matplotlib.figure.Figure at 0x12d6b9190>"
      ]
     },
     "metadata": {},
     "output_type": "display_data"
    }
   ],
   "source": [
    "(g.actor - g.actress).plot()"
   ]
  },
  {
   "cell_type": "code",
   "execution_count": 139,
   "metadata": {
    "collapsed": false
   },
   "outputs": [
    {
     "data": {
      "text/plain": [
       "<matplotlib.axes._subplots.AxesSubplot at 0x12eb01c90>"
      ]
     },
     "execution_count": 139,
     "metadata": {},
     "output_type": "execute_result"
    },
    {
     "data": {
      "image/png": "[encoded data removed]",
      "text/plain": [
       "<matplotlib.figure.Figure at 0x12eb29450>"
      ]
     },
     "metadata": {},
     "output_type": "display_data"
    }
   ],
   "source": [
    "(g.actor / (g.actor + g.actress)).plot(ylim=[0,1])"
   ]
  },
  {
   "cell_type": "code",
   "execution_count": 140,
   "metadata": {
    "collapsed": false
   },
   "outputs": [
    {
     "data": {
      "text/plain": [
       "<matplotlib.axes._subplots.AxesSubplot at 0x12eb21450>"
      ]
     },
     "execution_count": 140,
     "metadata": {},
     "output_type": "execute_result"
    },
    {
     "data": {
      "image/png": "[encoded data removed]",
      "text/plain": [
       "<matplotlib.figure.Figure at 0x12ed52550>"
      ]
     },
     "metadata": {},
     "output_type": "display_data"
    }
   ],
   "source": [
    "c = cast\n",
    "c = c[c.n == 2]\n",
    "c = c.groupby(['year', 'type']).size()\n",
    "#c\n",
    "g = c.unstack('type')\n",
    "\n",
    "#g.plot()\n",
    "(g.actor / (g.actor + g.actress)).plot(ylim=[0,1.5])"
   ]
  },
  {
   "cell_type": "code",
   "execution_count": 162,
   "metadata": {
    "collapsed": false
   },
   "outputs": [
    {
     "data": {
      "text/html": [
       "<div>\n",
       "<table border=\"1\" class=\"dataframe\">\n",
       "  <thead>\n",
       "    <tr style=\"text-align: right;\">\n",
       "      <th></th>\n",
       "      <th>type</th>\n",
       "      <th>actor</th>\n",
       "      <th>actress</th>\n",
       "    </tr>\n",
       "    <tr>\n",
       "      <th>year</th>\n",
       "      <th>n</th>\n",
       "      <th></th>\n",
       "      <th></th>\n",
       "    </tr>\n",
       "  </thead>\n",
       "  <tbody>\n",
       "    <tr>\n",
       "      <th rowspan=\"3\" valign=\"top\">1906</th>\n",
       "      <th>1</th>\n",
       "      <td>2</td>\n",
       "      <td>1</td>\n",
       "    </tr>\n",
       "    <tr>\n",
       "      <th>2</th>\n",
       "      <td>2</td>\n",
       "      <td>1</td>\n",
       "    </tr>\n",
       "    <tr>\n",
       "      <th>3</th>\n",
       "      <td>NaN</td>\n",
       "      <td>1</td>\n",
       "    </tr>\n",
       "    <tr>\n",
       "      <th rowspan=\"3\" valign=\"top\">1907</th>\n",
       "      <th>1</th>\n",
       "      <td>1</td>\n",
       "      <td>NaN</td>\n",
       "    </tr>\n",
       "    <tr>\n",
       "      <th>2</th>\n",
       "      <td>1</td>\n",
       "      <td>NaN</td>\n",
       "    </tr>\n",
       "    <tr>\n",
       "      <th>3</th>\n",
       "      <td>1</td>\n",
       "      <td>NaN</td>\n",
       "    </tr>\n",
       "    <tr>\n",
       "      <th rowspan=\"3\" valign=\"top\">1908</th>\n",
       "      <th>1</th>\n",
       "      <td>1</td>\n",
       "      <td>NaN</td>\n",
       "    </tr>\n",
       "    <tr>\n",
       "      <th>2</th>\n",
       "      <td>2</td>\n",
       "      <td>NaN</td>\n",
       "    </tr>\n",
       "    <tr>\n",
       "      <th>3</th>\n",
       "      <td>2</td>\n",
       "      <td>NaN</td>\n",
       "    </tr>\n",
       "    <tr>\n",
       "      <th>1909</th>\n",
       "      <th>1</th>\n",
       "      <td>1</td>\n",
       "      <td>NaN</td>\n",
       "    </tr>\n",
       "    <tr>\n",
       "      <th rowspan=\"3\" valign=\"top\">1910</th>\n",
       "      <th>1</th>\n",
       "      <td>1</td>\n",
       "      <td>4</td>\n",
       "    </tr>\n",
       "    <tr>\n",
       "      <th>2</th>\n",
       "      <td>2</td>\n",
       "      <td>2</td>\n",
       "    </tr>\n",
       "    <tr>\n",
       "      <th>3</th>\n",
       "      <td>3</td>\n",
       "      <td>NaN</td>\n",
       "    </tr>\n",
       "    <tr>\n",
       "      <th rowspan=\"3\" valign=\"top\">1911</th>\n",
       "      <th>1</th>\n",
       "      <td>18</td>\n",
       "      <td>9</td>\n",
       "    </tr>\n",
       "    <tr>\n",
       "      <th>2</th>\n",
       "      <td>14</td>\n",
       "      <td>7</td>\n",
       "    </tr>\n",
       "    <tr>\n",
       "      <th>3</th>\n",
       "      <td>15</td>\n",
       "      <td>4</td>\n",
       "    </tr>\n",
       "    <tr>\n",
       "      <th rowspan=\"3\" valign=\"top\">1912</th>\n",
       "      <th>1</th>\n",
       "      <td>15</td>\n",
       "      <td>12</td>\n",
       "    </tr>\n",
       "    <tr>\n",
       "      <th>2</th>\n",
       "      <td>9</td>\n",
       "      <td>15</td>\n",
       "    </tr>\n",
       "    <tr>\n",
       "      <th>3</th>\n",
       "      <td>14</td>\n",
       "      <td>5</td>\n",
       "    </tr>\n",
       "    <tr>\n",
       "      <th rowspan=\"3\" valign=\"top\">1913</th>\n",
       "      <th>1</th>\n",
       "      <td>81</td>\n",
       "      <td>51</td>\n",
       "    </tr>\n",
       "    <tr>\n",
       "      <th>2</th>\n",
       "      <td>64</td>\n",
       "      <td>49</td>\n",
       "    </tr>\n",
       "    <tr>\n",
       "      <th>3</th>\n",
       "      <td>74</td>\n",
       "      <td>25</td>\n",
       "    </tr>\n",
       "    <tr>\n",
       "      <th rowspan=\"3\" valign=\"top\">1914</th>\n",
       "      <th>1</th>\n",
       "      <td>223</td>\n",
       "      <td>141</td>\n",
       "    </tr>\n",
       "    <tr>\n",
       "      <th>2</th>\n",
       "      <td>171</td>\n",
       "      <td>155</td>\n",
       "    </tr>\n",
       "    <tr>\n",
       "      <th>3</th>\n",
       "      <td>218</td>\n",
       "      <td>91</td>\n",
       "    </tr>\n",
       "    <tr>\n",
       "      <th rowspan=\"3\" valign=\"top\">1915</th>\n",
       "      <th>1</th>\n",
       "      <td>364</td>\n",
       "      <td>301</td>\n",
       "    </tr>\n",
       "    <tr>\n",
       "      <th>2</th>\n",
       "      <td>336</td>\n",
       "      <td>298</td>\n",
       "    </tr>\n",
       "    <tr>\n",
       "      <th>3</th>\n",
       "      <td>400</td>\n",
       "      <td>200</td>\n",
       "    </tr>\n",
       "    <tr>\n",
       "      <th rowspan=\"2\" valign=\"top\">1916</th>\n",
       "      <th>1</th>\n",
       "      <td>453</td>\n",
       "      <td>502</td>\n",
       "    </tr>\n",
       "    <tr>\n",
       "      <th>2</th>\n",
       "      <td>520</td>\n",
       "      <td>390</td>\n",
       "    </tr>\n",
       "    <tr>\n",
       "      <th>...</th>\n",
       "      <th>...</th>\n",
       "      <td>...</td>\n",
       "      <td>...</td>\n",
       "    </tr>\n",
       "    <tr>\n",
       "      <th>2010</th>\n",
       "      <th>3</th>\n",
       "      <td>1887</td>\n",
       "      <td>1217</td>\n",
       "    </tr>\n",
       "    <tr>\n",
       "      <th rowspan=\"3\" valign=\"top\">2011</th>\n",
       "      <th>1</th>\n",
       "      <td>2804</td>\n",
       "      <td>1136</td>\n",
       "    </tr>\n",
       "    <tr>\n",
       "      <th>2</th>\n",
       "      <td>2113</td>\n",
       "      <td>1578</td>\n",
       "    </tr>\n",
       "    <tr>\n",
       "      <th>3</th>\n",
       "      <td>2158</td>\n",
       "      <td>1327</td>\n",
       "    </tr>\n",
       "    <tr>\n",
       "      <th rowspan=\"3\" valign=\"top\">2012</th>\n",
       "      <th>1</th>\n",
       "      <td>2776</td>\n",
       "      <td>1209</td>\n",
       "    </tr>\n",
       "    <tr>\n",
       "      <th>2</th>\n",
       "      <td>2112</td>\n",
       "      <td>1566</td>\n",
       "    </tr>\n",
       "    <tr>\n",
       "      <th>3</th>\n",
       "      <td>2149</td>\n",
       "      <td>1336</td>\n",
       "    </tr>\n",
       "    <tr>\n",
       "      <th rowspan=\"3\" valign=\"top\">2013</th>\n",
       "      <th>1</th>\n",
       "      <td>2839</td>\n",
       "      <td>1195</td>\n",
       "    </tr>\n",
       "    <tr>\n",
       "      <th>2</th>\n",
       "      <td>2137</td>\n",
       "      <td>1632</td>\n",
       "    </tr>\n",
       "    <tr>\n",
       "      <th>3</th>\n",
       "      <td>2214</td>\n",
       "      <td>1334</td>\n",
       "    </tr>\n",
       "    <tr>\n",
       "      <th rowspan=\"3\" valign=\"top\">2014</th>\n",
       "      <th>1</th>\n",
       "      <td>2838</td>\n",
       "      <td>1249</td>\n",
       "    </tr>\n",
       "    <tr>\n",
       "      <th>2</th>\n",
       "      <td>2139</td>\n",
       "      <td>1650</td>\n",
       "    </tr>\n",
       "    <tr>\n",
       "      <th>3</th>\n",
       "      <td>2163</td>\n",
       "      <td>1396</td>\n",
       "    </tr>\n",
       "    <tr>\n",
       "      <th rowspan=\"3\" valign=\"top\">2015</th>\n",
       "      <th>1</th>\n",
       "      <td>2671</td>\n",
       "      <td>1203</td>\n",
       "    </tr>\n",
       "    <tr>\n",
       "      <th>2</th>\n",
       "      <td>2050</td>\n",
       "      <td>1526</td>\n",
       "    </tr>\n",
       "    <tr>\n",
       "      <th>3</th>\n",
       "      <td>2088</td>\n",
       "      <td>1329</td>\n",
       "    </tr>\n",
       "    <tr>\n",
       "      <th rowspan=\"3\" valign=\"top\">2016</th>\n",
       "      <th>1</th>\n",
       "      <td>1290</td>\n",
       "      <td>600</td>\n",
       "    </tr>\n",
       "    <tr>\n",
       "      <th>2</th>\n",
       "      <td>960</td>\n",
       "      <td>716</td>\n",
       "    </tr>\n",
       "    <tr>\n",
       "      <th>3</th>\n",
       "      <td>910</td>\n",
       "      <td>641</td>\n",
       "    </tr>\n",
       "    <tr>\n",
       "      <th rowspan=\"3\" valign=\"top\">2017</th>\n",
       "      <th>1</th>\n",
       "      <td>79</td>\n",
       "      <td>45</td>\n",
       "    </tr>\n",
       "    <tr>\n",
       "      <th>2</th>\n",
       "      <td>58</td>\n",
       "      <td>40</td>\n",
       "    </tr>\n",
       "    <tr>\n",
       "      <th>3</th>\n",
       "      <td>51</td>\n",
       "      <td>32</td>\n",
       "    </tr>\n",
       "    <tr>\n",
       "      <th rowspan=\"3\" valign=\"top\">2018</th>\n",
       "      <th>1</th>\n",
       "      <td>10</td>\n",
       "      <td>6</td>\n",
       "    </tr>\n",
       "    <tr>\n",
       "      <th>2</th>\n",
       "      <td>6</td>\n",
       "      <td>3</td>\n",
       "    </tr>\n",
       "    <tr>\n",
       "      <th>3</th>\n",
       "      <td>3</td>\n",
       "      <td>3</td>\n",
       "    </tr>\n",
       "    <tr>\n",
       "      <th rowspan=\"3\" valign=\"top\">2019</th>\n",
       "      <th>1</th>\n",
       "      <td>3</td>\n",
       "      <td>NaN</td>\n",
       "    </tr>\n",
       "    <tr>\n",
       "      <th>2</th>\n",
       "      <td>1</td>\n",
       "      <td>1</td>\n",
       "    </tr>\n",
       "    <tr>\n",
       "      <th>3</th>\n",
       "      <td>2</td>\n",
       "      <td>NaN</td>\n",
       "    </tr>\n",
       "    <tr>\n",
       "      <th rowspan=\"2\" valign=\"top\">2020</th>\n",
       "      <th>1</th>\n",
       "      <td>8</td>\n",
       "      <td>NaN</td>\n",
       "    </tr>\n",
       "    <tr>\n",
       "      <th>3</th>\n",
       "      <td>5</td>\n",
       "      <td>NaN</td>\n",
       "    </tr>\n",
       "  </tbody>\n",
       "</table>\n",
       "<p>342 rows × 2 columns</p>\n",
       "</div>"
      ],
      "text/plain": [
       "type    actor  actress\n",
       "year n                \n",
       "1906 1      2        1\n",
       "     2      2        1\n",
       "     3    NaN        1\n",
       "1907 1      1      NaN\n",
       "     2      1      NaN\n",
       "     3      1      NaN\n",
       "1908 1      1      NaN\n",
       "     2      2      NaN\n",
       "     3      2      NaN\n",
       "1909 1      1      NaN\n",
       "1910 1      1        4\n",
       "     2      2        2\n",
       "     3      3      NaN\n",
       "1911 1     18        9\n",
       "     2     14        7\n",
       "     3     15        4\n",
       "1912 1     15       12\n",
       "     2      9       15\n",
       "     3     14        5\n",
       "1913 1     81       51\n",
       "     2     64       49\n",
       "     3     74       25\n",
       "1914 1    223      141\n",
       "     2    171      155\n",
       "     3    218       91\n",
       "1915 1    364      301\n",
       "     2    336      298\n",
       "     3    400      200\n",
       "1916 1    453      502\n",
       "     2    520      390\n",
       "...       ...      ...\n",
       "2010 3   1887     1217\n",
       "2011 1   2804     1136\n",
       "     2   2113     1578\n",
       "     3   2158     1327\n",
       "2012 1   2776     1209\n",
       "     2   2112     1566\n",
       "     3   2149     1336\n",
       "2013 1   2839     1195\n",
       "     2   2137     1632\n",
       "     3   2214     1334\n",
       "2014 1   2838     1249\n",
       "     2   2139     1650\n",
       "     3   2163     1396\n",
       "2015 1   2671     1203\n",
       "     2   2050     1526\n",
       "     3   2088     1329\n",
       "2016 1   1290      600\n",
       "     2    960      716\n",
       "     3    910      641\n",
       "2017 1     79       45\n",
       "     2     58       40\n",
       "     3     51       32\n",
       "2018 1     10        6\n",
       "     2      6        3\n",
       "     3      3        3\n",
       "2019 1      3      NaN\n",
       "     2      1        1\n",
       "     3      2      NaN\n",
       "2020 1      8      NaN\n",
       "     3      5      NaN\n",
       "\n",
       "[342 rows x 2 columns]"
      ]
     },
     "execution_count": 162,
     "metadata": {},
     "output_type": "execute_result"
    }
   ],
   "source": [
    "c = cast\n",
    "c = c[c.n <= 3]\n",
    "c = c.groupby(['year', 'type', 'n']).size()\n",
    "c.unstack('type')"
   ]
  },
  {
   "cell_type": "code",
   "execution_count": null,
   "metadata": {
    "collapsed": true
   },
   "outputs": [],
   "source": []
  },
  {
   "cell_type": "code",
   "execution_count": null,
   "metadata": {
    "collapsed": true
   },
   "outputs": [],
   "source": []
  },
  {
   "cell_type": "code",
   "execution_count": null,
   "metadata": {
    "collapsed": true
   },
   "outputs": [],
   "source": []
  },
  {
   "cell_type": "code",
   "execution_count": null,
   "metadata": {
    "collapsed": true
   },
   "outputs": [],
   "source": []
  },
  {
   "cell_type": "code",
   "execution_count": null,
   "metadata": {
    "collapsed": true
   },
   "outputs": [],
   "source": []
  },
  {
   "cell_type": "code",
   "execution_count": null,
   "metadata": {
    "collapsed": true
   },
   "outputs": [],
   "source": []
  }
 ],
 "metadata": {
  "kernelspec": {
   "display_name": "Python 2",
   "language": "python",
   "name": "python2"
  },
  "language_info": {
   "codemirror_mode": {
    "name": "ipython",
    "version": 2
   },
   "file_extension": ".py",
   "mimetype": "text/x-python",
   "name": "python",
   "nbconvert_exporter": "python",
   "pygments_lexer": "ipython2",
   "version": "2.7.11"
  }
 },
 "nbformat": 4,
 "nbformat_minor": 0
}
